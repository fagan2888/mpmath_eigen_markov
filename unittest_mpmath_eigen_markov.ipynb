{
 "metadata": {
  "name": "",
  "signature": "sha256:b223d6641a2c3dd322df9047cddc89fc0e44095075f1a0a3f8769c57138d143d"
 },
 "nbformat": 3,
 "nbformat_minor": 0,
 "worksheets": [
  {
   "cells": [
    {
     "cell_type": "heading",
     "level": 1,
     "metadata": {},
     "source": [
      "Unittest for stoch_eig with KMR matrices"
     ]
    },
    {
     "cell_type": "heading",
     "level": 2,
     "metadata": {},
     "source": [
      "Test 1"
     ]
    },
    {
     "cell_type": "code",
     "collapsed": false,
     "input": [
      "# Default values: N=27, epsilon=1e-2, move='sequential', tolerance=0\n",
      "%run unittest_mpmath_eigen_markov.py"
     ],
     "language": "python",
     "metadata": {},
     "outputs": [
      {
       "output_type": "stream",
       "stream": "stderr",
       "text": [
        "test_left_eigen_vec (__main__.TestComputeStationary) ... "
       ]
      },
      {
       "output_type": "stream",
       "stream": "stderr",
       "text": [
        "FAIL\n",
        "test_markov_matrix (__main__.TestComputeStationary) ... "
       ]
      },
      {
       "output_type": "stream",
       "stream": "stderr",
       "text": [
        "ok\n",
        "test_nonnegative (__main__.TestComputeStationary) ... "
       ]
      },
      {
       "output_type": "stream",
       "stream": "stderr",
       "text": [
        "ok\n",
        "test_sum_one (__main__.TestComputeStationary) ... "
       ]
      },
      {
       "output_type": "stream",
       "stream": "stdout",
       "text": [
        "N = 27 , epsilon = 0.01 \n",
        "\n",
        "v =\n",
        "[1.78461891799335e-21  2.42134225054374e-22  1.58178136970194e-23  6.62387508250393e-25  1.99714826608159e-26  4.61652363013834e-28  8.50615744246595e-30  1.28233529283406e-31  1.61097398597244e-33  1.70901762889315e-35  6.12170114669528e-33  1.88270136175183e-30  4.99543427984819e-28  1.14702856348822e-25  2.28258684134156e-23  3.93670143903374e-21  5.87552689775785e-19  7.56560492893643e-17  8.36419656032417e-15  7.88435581028452e-13  6.27594722498647e-11  4.16304499257436e-9  2.25939805506081e-7  9.77435245558917e-6  0.000324182689777041  0.00774148263187573  0.118504234134098  0.873420096025387] \n",
        "\n",
        "TOL = 0 \n",
        "\n"
       ]
      },
      {
       "output_type": "stream",
       "stream": "stderr",
       "text": [
        "ok\n",
        "\n",
        "======================================================================\n",
        "FAIL: test_left_eigen_vec (__main__.TestComputeStationary)\n",
        "----------------------------------------------------------------------\n",
        "Traceback (most recent call last):\n",
        "  File \"/Users/oyama/Dropbox/Development/mpmath_eigen_markov/unittest_mpmath_eigen_markov.py\", line 134, in test_left_eigen_vec\n",
        "    self.assertTrue(mp.norm(v - v*mp.mp.matrix(P), 'inf') <= TOL)\n",
        "AssertionError: False is not true\n",
        "\n",
        "----------------------------------------------------------------------\n",
        "Ran 4 tests in 0.020s\n",
        "\n",
        "FAILED (failures=1)\n"
       ]
      }
     ],
     "prompt_number": 1
    },
    {
     "cell_type": "code",
     "collapsed": false,
     "input": [
      "%run unittest_mpmath_eigen_markov.py --tolerance=1e-24"
     ],
     "language": "python",
     "metadata": {},
     "outputs": [
      {
       "output_type": "stream",
       "stream": "stderr",
       "text": [
        "test_left_eigen_vec (__main__.TestComputeStationary) ... "
       ]
      },
      {
       "output_type": "stream",
       "stream": "stderr",
       "text": [
        "ok\n",
        "test_markov_matrix (__main__.TestComputeStationary) ... "
       ]
      },
      {
       "output_type": "stream",
       "stream": "stderr",
       "text": [
        "ok\n",
        "test_nonnegative (__main__.TestComputeStationary) ... "
       ]
      },
      {
       "output_type": "stream",
       "stream": "stderr",
       "text": [
        "ok\n",
        "test_sum_one (__main__.TestComputeStationary) ... "
       ]
      },
      {
       "output_type": "stream",
       "stream": "stdout",
       "text": [
        "N = 27 , epsilon = 0.01 \n",
        "\n",
        "v =\n",
        "[1.78461891799335e-21  2.42134225054374e-22  1.58178136970194e-23  6.62387508250393e-25  1.99714826608159e-26  4.61652363013834e-28  8.50615744246595e-30  1.28233529283406e-31  1.61097398597244e-33  1.70901762889315e-35  6.12170114669528e-33  1.88270136175183e-30  4.99543427984819e-28  1.14702856348822e-25  2.28258684134156e-23  3.93670143903374e-21  5.87552689775785e-19  7.56560492893643e-17  8.36419656032417e-15  7.88435581028452e-13  6.27594722498647e-11  4.16304499257436e-9  2.25939805506081e-7  9.77435245558917e-6  0.000324182689777041  0.00774148263187573  0.118504234134098  0.873420096025387] \n",
        "\n",
        "TOL = 1e-24 \n",
        "\n"
       ]
      },
      {
       "output_type": "stream",
       "stream": "stderr",
       "text": [
        "ok\n",
        "\n",
        "----------------------------------------------------------------------\n",
        "Ran 4 tests in 0.013s\n",
        "\n",
        "OK\n"
       ]
      }
     ],
     "prompt_number": 2
    },
    {
     "cell_type": "heading",
     "level": 2,
     "metadata": {},
     "source": [
      "Test 2"
     ]
    },
    {
     "cell_type": "code",
     "collapsed": false,
     "input": [
      "%run unittest_mpmath_eigen_markov.py --N=3 --epsilon=1e-14"
     ],
     "language": "python",
     "metadata": {},
     "outputs": [
      {
       "output_type": "stream",
       "stream": "stderr",
       "text": [
        "test_left_eigen_vec (__main__.TestComputeStationary) ... "
       ]
      },
      {
       "output_type": "stream",
       "stream": "stderr",
       "text": [
        "ok\n",
        "test_markov_matrix (__main__.TestComputeStationary) ... "
       ]
      },
      {
       "output_type": "stream",
       "stream": "stderr",
       "text": [
        "ok\n",
        "test_nonnegative (__main__.TestComputeStationary) ... "
       ]
      },
      {
       "output_type": "stream",
       "stream": "stderr",
       "text": [
        "ok\n",
        "test_sum_one (__main__.TestComputeStationary) ... "
       ]
      },
      {
       "output_type": "stream",
       "stream": "stdout",
       "text": [
        "N = 3 , epsilon = 1e-14 \n",
        "\n",
        "P =\n",
        "[[  1.00000000e+00   5.00000000e-15   0.00000000e+00   0.00000000e+00]\n",
        " [  3.33333333e-01   4.99600361e-15   6.66666667e-01   0.00000000e+00]\n",
        " [  0.00000000e+00   3.33333333e-15   6.66666667e-01   3.33333333e-01]\n",
        " [  0.00000000e+00   0.00000000e+00   5.00000000e-15   1.00000000e+00]] \n",
        "\n",
        "v =\n",
        "[4.99999999999992e-15  7.49999999999992e-29  1.49999999999998e-14  0.99999999999998] \n",
        "\n",
        "TOL = 0 \n",
        "\n"
       ]
      },
      {
       "output_type": "stream",
       "stream": "stderr",
       "text": [
        "ok\n",
        "\n",
        "----------------------------------------------------------------------\n",
        "Ran 4 tests in 0.003s\n",
        "\n",
        "OK\n"
       ]
      }
     ],
     "prompt_number": 3
    },
    {
     "cell_type": "heading",
     "level": 2,
     "metadata": {},
     "source": [
      "Test 3"
     ]
    },
    {
     "cell_type": "code",
     "collapsed": false,
     "input": [
      "%run unittest_mpmath_eigen_markov.py --move='simultaneous' --N=5 --epsilon=1e-15"
     ],
     "language": "python",
     "metadata": {},
     "outputs": [
      {
       "output_type": "stream",
       "stream": "stderr",
       "text": [
        "test_left_eigen_vec (__main__.TestComputeStationary) ... "
       ]
      },
      {
       "output_type": "stream",
       "stream": "stderr",
       "text": [
        "FAIL\n",
        "test_markov_matrix (__main__.TestComputeStationary) ... "
       ]
      },
      {
       "output_type": "stream",
       "stream": "stderr",
       "text": [
        "ok\n",
        "test_nonnegative (__main__.TestComputeStationary) ... "
       ]
      },
      {
       "output_type": "stream",
       "stream": "stderr",
       "text": [
        "ok\n",
        "test_sum_one (__main__.TestComputeStationary) ... "
       ]
      },
      {
       "output_type": "stream",
       "stream": "stdout",
       "text": [
        "N = 5 , epsilon = 1e-15 \n",
        "\n",
        "P =\n",
        "[[  1.00000000e+00   2.50000000e-15   2.50000000e-30   1.25000000e-45\n",
        "    3.12500000e-61   3.12500000e-77]\n",
        " [  1.00000000e+00   2.50000000e-15   2.50000000e-30   1.25000000e-45\n",
        "    3.12500000e-61   3.12500000e-77]\n",
        " [  5.27109897e-77   4.74778387e-61   1.71056941e-45   3.08148791e-30\n",
        "    2.77555756e-15   1.00000000e+00]\n",
        " [  5.27109897e-77   4.74778387e-61   1.71056941e-45   3.08148791e-30\n",
        "    2.77555756e-15   1.00000000e+00]\n",
        " [  5.27109897e-77   4.74778387e-61   1.71056941e-45   3.08148791e-30\n",
        "    2.77555756e-15   1.00000000e+00]\n",
        " [  5.27109897e-77   4.74778387e-61   1.71056941e-45   3.08148791e-30\n",
        "    2.77555756e-15   1.00000000e+00]] \n",
        "\n",
        "v =\n",
        "[1.89911354915195e-31  4.74778387287991e-46  1.71056941445903e-45  3.08148791101961e-30  2.77555756156289e-15  0.999999999999997] \n",
        "\n",
        "TOL = 0 \n",
        "\n"
       ]
      },
      {
       "output_type": "stream",
       "stream": "stderr",
       "text": [
        "FAIL\n",
        "\n",
        "======================================================================\n",
        "FAIL: test_left_eigen_vec (__main__.TestComputeStationary)\n",
        "----------------------------------------------------------------------\n",
        "Traceback (most recent call last):\n",
        "  File \"/Users/oyama/Dropbox/Development/mpmath_eigen_markov/unittest_mpmath_eigen_markov.py\", line 134, in test_left_eigen_vec\n",
        "    self.assertTrue(mp.norm(v - v*mp.mp.matrix(P), 'inf') <= TOL)\n",
        "AssertionError: False is not true\n",
        "\n",
        "======================================================================\n",
        "FAIL: test_sum_one (__main__.TestComputeStationary)\n",
        "----------------------------------------------------------------------\n",
        "Traceback (most recent call last):\n",
        "  File \"/Users/oyama/Dropbox/Development/mpmath_eigen_markov/unittest_mpmath_eigen_markov.py\", line 128, in test_sum_one\n",
        "    self.assertTrue(abs(sum(self.v) - 1) <= TOL)\n",
        "AssertionError: False is not true\n",
        "\n",
        "----------------------------------------------------------------------\n",
        "Ran 4 tests in 0.003s\n",
        "\n",
        "FAILED (failures=2)\n"
       ]
      }
     ],
     "prompt_number": 4
    },
    {
     "cell_type": "code",
     "collapsed": false,
     "input": [
      "%run unittest_mpmath_eigen_markov.py --move='simultaneous' --N=5 --epsilon=1e-15 --tolerance=1e-30"
     ],
     "language": "python",
     "metadata": {},
     "outputs": [
      {
       "output_type": "stream",
       "stream": "stderr",
       "text": [
        "test_left_eigen_vec (__main__.TestComputeStationary) ... "
       ]
      },
      {
       "output_type": "stream",
       "stream": "stderr",
       "text": [
        "ok\n",
        "test_markov_matrix (__main__.TestComputeStationary) ... "
       ]
      },
      {
       "output_type": "stream",
       "stream": "stderr",
       "text": [
        "ok\n",
        "test_nonnegative (__main__.TestComputeStationary) ... "
       ]
      },
      {
       "output_type": "stream",
       "stream": "stderr",
       "text": [
        "ok\n",
        "test_sum_one (__main__.TestComputeStationary) ... "
       ]
      },
      {
       "output_type": "stream",
       "stream": "stdout",
       "text": [
        "N = 5 , epsilon = 1e-15 \n",
        "\n",
        "P =\n",
        "[[  1.00000000e+00   2.50000000e-15   2.50000000e-30   1.25000000e-45\n",
        "    3.12500000e-61   3.12500000e-77]\n",
        " [  1.00000000e+00   2.50000000e-15   2.50000000e-30   1.25000000e-45\n",
        "    3.12500000e-61   3.12500000e-77]\n",
        " [  5.27109897e-77   4.74778387e-61   1.71056941e-45   3.08148791e-30\n",
        "    2.77555756e-15   1.00000000e+00]\n",
        " [  5.27109897e-77   4.74778387e-61   1.71056941e-45   3.08148791e-30\n",
        "    2.77555756e-15   1.00000000e+00]\n",
        " [  5.27109897e-77   4.74778387e-61   1.71056941e-45   3.08148791e-30\n",
        "    2.77555756e-15   1.00000000e+00]\n",
        " [  5.27109897e-77   4.74778387e-61   1.71056941e-45   3.08148791e-30\n",
        "    2.77555756e-15   1.00000000e+00]] \n",
        "\n",
        "v =\n",
        "[1.89911354915195e-31  4.74778387287991e-46  1.71056941445903e-45  3.08148791101961e-30  2.77555756156289e-15  0.999999999999997] \n",
        "\n",
        "TOL = 1e-30 \n",
        "\n"
       ]
      },
      {
       "output_type": "stream",
       "stream": "stderr",
       "text": [
        "FAIL\n",
        "\n",
        "======================================================================\n",
        "FAIL: test_sum_one (__main__.TestComputeStationary)\n",
        "----------------------------------------------------------------------\n",
        "Traceback (most recent call last):\n",
        "  File \"/Users/oyama/Dropbox/Development/mpmath_eigen_markov/unittest_mpmath_eigen_markov.py\", line 128, in test_sum_one\n",
        "    self.assertTrue(abs(sum(self.v) - 1) <= TOL)\n",
        "AssertionError: False is not true\n",
        "\n",
        "----------------------------------------------------------------------\n",
        "Ran 4 tests in 0.003s\n",
        "\n",
        "FAILED (failures=1)\n"
       ]
      }
     ],
     "prompt_number": 5
    },
    {
     "cell_type": "code",
     "collapsed": false,
     "input": [
      "%run unittest_mpmath_eigen_markov.py --move='simultaneous' --N=5 --epsilon=1e-15 --tolerance=1e-15"
     ],
     "language": "python",
     "metadata": {},
     "outputs": [
      {
       "output_type": "stream",
       "stream": "stderr",
       "text": [
        "test_left_eigen_vec (__main__.TestComputeStationary) ... "
       ]
      },
      {
       "output_type": "stream",
       "stream": "stderr",
       "text": [
        "ok\n",
        "test_markov_matrix (__main__.TestComputeStationary) ... "
       ]
      },
      {
       "output_type": "stream",
       "stream": "stderr",
       "text": [
        "ok\n",
        "test_nonnegative (__main__.TestComputeStationary) ... "
       ]
      },
      {
       "output_type": "stream",
       "stream": "stderr",
       "text": [
        "ok\n",
        "test_sum_one (__main__.TestComputeStationary) ... "
       ]
      },
      {
       "output_type": "stream",
       "stream": "stdout",
       "text": [
        "N = 5 , epsilon = 1e-15 \n",
        "\n",
        "P =\n",
        "[[  1.00000000e+00   2.50000000e-15   2.50000000e-30   1.25000000e-45\n",
        "    3.12500000e-61   3.12500000e-77]\n",
        " [  1.00000000e+00   2.50000000e-15   2.50000000e-30   1.25000000e-45\n",
        "    3.12500000e-61   3.12500000e-77]\n",
        " [  5.27109897e-77   4.74778387e-61   1.71056941e-45   3.08148791e-30\n",
        "    2.77555756e-15   1.00000000e+00]\n",
        " [  5.27109897e-77   4.74778387e-61   1.71056941e-45   3.08148791e-30\n",
        "    2.77555756e-15   1.00000000e+00]\n",
        " [  5.27109897e-77   4.74778387e-61   1.71056941e-45   3.08148791e-30\n",
        "    2.77555756e-15   1.00000000e+00]\n",
        " [  5.27109897e-77   4.74778387e-61   1.71056941e-45   3.08148791e-30\n",
        "    2.77555756e-15   1.00000000e+00]] \n",
        "\n",
        "v =\n",
        "[1.89911354915195e-31  4.74778387287991e-46  1.71056941445903e-45  3.08148791101961e-30  2.77555756156289e-15  0.999999999999997] \n",
        "\n",
        "TOL = 1e-15 \n",
        "\n"
       ]
      },
      {
       "output_type": "stream",
       "stream": "stderr",
       "text": [
        "ok\n",
        "\n",
        "----------------------------------------------------------------------\n",
        "Ran 4 tests in 0.002s\n",
        "\n",
        "OK\n"
       ]
      }
     ],
     "prompt_number": 6
    },
    {
     "cell_type": "code",
     "collapsed": false,
     "input": [
      "import platform\n",
      "print platform.platform()"
     ],
     "language": "python",
     "metadata": {},
     "outputs": [
      {
       "output_type": "stream",
       "stream": "stdout",
       "text": [
        "Darwin-13.3.0-x86_64-i386-64bit\n"
       ]
      }
     ],
     "prompt_number": 7
    },
    {
     "cell_type": "code",
     "collapsed": false,
     "input": [
      "import sys\n",
      "print sys.version"
     ],
     "language": "python",
     "metadata": {},
     "outputs": [
      {
       "output_type": "stream",
       "stream": "stdout",
       "text": [
        "2.7.8 (default, Jul  2 2014, 10:14:46) \n",
        "[GCC 4.2.1 Compatible Apple LLVM 5.1 (clang-503.0.40)]\n"
       ]
      }
     ],
     "prompt_number": 8
    },
    {
     "cell_type": "code",
     "collapsed": false,
     "input": [
      "import numpy\n",
      "print numpy.__version__"
     ],
     "language": "python",
     "metadata": {},
     "outputs": [
      {
       "output_type": "stream",
       "stream": "stdout",
       "text": [
        "1.8.1\n"
       ]
      }
     ],
     "prompt_number": 9
    },
    {
     "cell_type": "code",
     "collapsed": false,
     "input": [
      "import mpmath\n",
      "print mpmath.__version__"
     ],
     "language": "python",
     "metadata": {},
     "outputs": [
      {
       "output_type": "stream",
       "stream": "stdout",
       "text": [
        "0.19\n"
       ]
      }
     ],
     "prompt_number": 10
    }
   ],
   "metadata": {}
  }
 ]
}