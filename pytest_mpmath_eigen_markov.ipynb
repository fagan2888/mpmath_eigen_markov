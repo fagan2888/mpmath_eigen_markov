{
 "metadata": {
  "name": "",
  "signature": "sha256:50bb285e813382b30ac0a8d3ba912f423d54eb2790326d2a9ad8ae8008f837c7"
 },
 "nbformat": 3,
 "nbformat_minor": 0,
 "worksheets": [
  {
   "cells": [
    {
     "cell_type": "heading",
     "level": 1,
     "metadata": {},
     "source": [
      "pytest outcome"
     ]
    },
    {
     "cell_type": "code",
     "collapsed": false,
     "input": [
      "%run test_eigen_markov.py -v"
     ],
     "language": "python",
     "metadata": {},
     "outputs": [
      {
       "output_type": "stream",
       "stream": "stdout",
       "text": [
        "================================================= test session starts =================================================="
       ]
      },
      {
       "output_type": "stream",
       "stream": "stdout",
       "text": [
        "\n"
       ]
      },
      {
       "output_type": "stream",
       "stream": "stdout",
       "text": [
        "platform darwin -- Python 2.7.8 -- py-1.4.23 -- pytest-2.6.1 -- /usr/local/opt/python/bin/python2.7"
       ]
      },
      {
       "output_type": "stream",
       "stream": "stdout",
       "text": [
        "\n"
       ]
      },
      {
       "output_type": "stream",
       "stream": "stdout",
       "text": [
        "collecting ... "
       ]
      },
      {
       "output_type": "stream",
       "stream": "stdout",
       "text": [
        "collected 4 items"
       ]
      },
      {
       "output_type": "stream",
       "stream": "stdout",
       "text": [
        "\n"
       ]
      },
      {
       "output_type": "stream",
       "stream": "stdout",
       "text": [
        "\n"
       ]
      },
      {
       "output_type": "stream",
       "stream": "stdout",
       "text": [
        "test_eigen_markov.py::test_stoch_eig_fixed_matrix "
       ]
      },
      {
       "output_type": "stream",
       "stream": "stdout",
       "text": [
        "PASSED"
       ]
      },
      {
       "output_type": "stream",
       "stream": "stdout",
       "text": [
        "\n"
       ]
      },
      {
       "output_type": "stream",
       "stream": "stdout",
       "text": [
        "test_eigen_markov.py::test_gth_solve_fixed_matrix "
       ]
      },
      {
       "output_type": "stream",
       "stream": "stdout",
       "text": [
        "PASSED"
       ]
      },
      {
       "output_type": "stream",
       "stream": "stdout",
       "text": [
        "\n"
       ]
      },
      {
       "output_type": "stream",
       "stream": "stdout",
       "text": [
        "test_eigen_markov.py::test_stoch_eig_randmatrix "
       ]
      },
      {
       "output_type": "stream",
       "stream": "stdout",
       "text": [
        "PASSED"
       ]
      },
      {
       "output_type": "stream",
       "stream": "stdout",
       "text": [
        "\n"
       ]
      },
      {
       "output_type": "stream",
       "stream": "stdout",
       "text": [
        "test_eigen_markov.py::test_gth_solve_randmatrix "
       ]
      },
      {
       "output_type": "stream",
       "stream": "stdout",
       "text": [
        "PASSED"
       ]
      },
      {
       "output_type": "stream",
       "stream": "stdout",
       "text": [
        "\n"
       ]
      },
      {
       "output_type": "stream",
       "stream": "stdout",
       "text": [
        "\n"
       ]
      },
      {
       "output_type": "stream",
       "stream": "stdout",
       "text": [
        "=============================================== 4 passed in 0.30 seconds ==============================================="
       ]
      },
      {
       "output_type": "stream",
       "stream": "stdout",
       "text": [
        "\n"
       ]
      }
     ],
     "prompt_number": 1
    },
    {
     "cell_type": "code",
     "collapsed": false,
     "input": [
      "# Run with VERBOSE=1\n",
      "%run test_eigen_markov.py -v -s"
     ],
     "language": "python",
     "metadata": {},
     "outputs": [
      {
       "output_type": "stream",
       "stream": "stdout",
       "text": [
        "================================================= test session starts =================================================="
       ]
      },
      {
       "output_type": "stream",
       "stream": "stdout",
       "text": [
        "\n"
       ]
      },
      {
       "output_type": "stream",
       "stream": "stdout",
       "text": [
        "platform darwin -- Python 2.7.8 -- py-1.4.23 -- pytest-2.6.1 -- /usr/local/opt/python/bin/python2.7"
       ]
      },
      {
       "output_type": "stream",
       "stream": "stdout",
       "text": [
        "\n"
       ]
      },
      {
       "output_type": "stream",
       "stream": "stdout",
       "text": [
        "collecting ... "
       ]
      },
      {
       "output_type": "stream",
       "stream": "stdout",
       "text": [
        "collected 4 items"
       ]
      },
      {
       "output_type": "stream",
       "stream": "stdout",
       "text": [
        "\n"
       ]
      },
      {
       "output_type": "stream",
       "stream": "stdout",
       "text": [
        "\n"
       ]
      },
      {
       "output_type": "stream",
       "stream": "stdout",
       "text": [
        "test_eigen_markov.py::test_stoch_eig_fixed_matrix "
       ]
      },
      {
       "output_type": "stream",
       "stream": "stdout",
       "text": [
        "|xP - x| (stoch_eig): 0.0\n",
        "min(x) (stoch_eig): 0.0625\n",
        "||x| - 1| (stoch_eig): 0.0\n",
        "|xP - x| (stoch_eig): 0.0\n",
        "min(x) (stoch_eig): 7.49999999999992e-29\n",
        "||x| - 1| (stoch_eig): 0.0\n",
        "|xP - x| (stoch_eig):"
       ]
      },
      {
       "output_type": "stream",
       "stream": "stdout",
       "text": [
        " 8.27180612649327e-25\n",
        "min(x) (stoch_eig): 1.70901762889315e-35\n",
        "||x| - 1| (stoch_eig): 0.0\n",
        "PASSED"
       ]
      },
      {
       "output_type": "stream",
       "stream": "stdout",
       "text": [
        "\n"
       ]
      },
      {
       "output_type": "stream",
       "stream": "stdout",
       "text": [
        "test_eigen_markov.py::test_gth_solve_fixed_matrix "
       ]
      },
      {
       "output_type": "stream",
       "stream": "stdout",
       "text": [
        "|xA| (gth_solve): 1.21430643318376e-17\n",
        "min(x) (gth_solve): 0.0625\n",
        "||x| - 1| (gth_solve): 0.0\n",
        "|xA| (gth_solve): 5.98539071775889e-31\n",
        "min(x) (gth_solve): 7.49999999999992e-29\n",
        "||x| - 1| (gth_solve): 0.0\n",
        "|xA| (gth_solve):"
       ]
      },
      {
       "output_type": "stream",
       "stream": "stdout",
       "text": [
        " 9.60332761504887e-20\n",
        "min(x) (gth_solve): 1.70901762889315e-35\n",
        "||x| - 1| (gth_solve): 0.0\n",
        "PASSED"
       ]
      },
      {
       "output_type": "stream",
       "stream": "stdout",
       "text": [
        "\n"
       ]
      },
      {
       "output_type": "stream",
       "stream": "stdout",
       "text": [
        "test_eigen_markov.py::test_stoch_eig_randmatrix "
       ]
      },
      {
       "output_type": "stream",
       "stream": "stdout",
       "text": [
        "|xP - x| (stoch_eig): 1.66533453693773e-16\n",
        "min(x) (stoch_eig): 0.162918671901232\n",
        "||x| - 1| (stoch_eig): 0.0\n",
        "|xP - x| (stoch_eig): 1.38777878078145e-16\n",
        "min(x) (stoch_eig): 0.108678695135313\n",
        "||x| - 1| (stoch_eig): 0.0\n",
        "|xP - x| (stoch_eig): 5.55111512312578e-17\n",
        "min(x) (stoch_eig): 0.139590706619863\n",
        "||x| - 1| (stoch_eig): 0.0\n",
        "|xP - x| (stoch_eig): 2.77555756156289e-17\n",
        "min(x) (stoch_eig): 0.120804893701263\n",
        "||x| - 1| (stoch_eig): 0.0\n",
        "|xP - x| (stoch_eig): 2.77555756156289e-17\n",
        "min(x) (stoch_eig): 0.128527507791565\n",
        "||x| - 1| (stoch_eig): 0.0\n",
        "|xP - x| (stoch_eig): 5.55111512312578e-17\n",
        "min(x) (stoch_eig): 0.132227990605574\n",
        "||x| - 1| (stoch_eig): 0.0\n",
        "|xP - x| (stoch_eig): 5.55111512312578e-17\n",
        "min(x) (stoch_eig): 0.131527985321636\n",
        "||x| - 1| (stoch_eig): 0.0\n",
        "|xP - x| (stoch_eig): 5.55111512312578e-17\n",
        "min(x) (stoch_eig): 0.149394392966089\n",
        "||x| - 1| (stoch_eig): 0.0\n",
        "|xP - x| (stoch_eig): 5.55111512312578e-17\n",
        "min(x) (stoch_eig): 0.133673567104924\n",
        "||x| - 1| (stoch_eig): 0.0\n",
        "|xP - x| (stoch_eig): 1.52655665885959e-16\n",
        "min(x) (stoch_eig): 0.104849661461754\n",
        "||x| - 1| (stoch_eig): 1.11022302462516e-16\n",
        "PASSED"
       ]
      },
      {
       "output_type": "stream",
       "stream": "stdout",
       "text": [
        "\n"
       ]
      },
      {
       "output_type": "stream",
       "stream": "stdout",
       "text": [
        "test_eigen_markov.py::test_gth_solve_randmatrix "
       ]
      },
      {
       "output_type": "stream",
       "stream": "stdout",
       "text": [
        "|xA| (gth_solve): 9.90031786517246e-17\n",
        "min(x) (gth_solve): 0.158272534403439\n",
        "||x| - 1| (gth_solve): 0.0\n",
        "|xA| (gth_solve): 5.36277608869441e-17\n",
        "min(x) (gth_solve): 0.0704679400713006\n",
        "||x| - 1| (gth_solve): 0.0\n",
        "|xA| (gth_solve): 5.47669515714064e-17\n",
        "min(x) (gth_solve): 0.142806055760374\n",
        "||x| - 1| (gth_solve): 0.0\n",
        "|xA| (gth_solve): 3.92817532334473e-17\n",
        "min(x) (gth_solve): 0.170742593328091\n",
        "||x| - 1| (gth_solve): 0.0\n",
        "|xA| (gth_solve): 3.77376120422517e-17\n",
        "min(x) (gth_solve): 0.114752325204356\n",
        "||x| - 1| (gth_solve): 0.0\n",
        "|xA| (gth_solve): 1.96309970112371e-17\n",
        "min(x) (gth_solve): 0.129157892783381\n",
        "||x| - 1| (gth_solve): 0.0\n",
        "|xA| (gth_solve): 7.24386075782292e-17\n",
        "min(x) (gth_solve): 0.170634961136084\n",
        "||x| - 1| (gth_solve): 0.0\n",
        "|xA| (gth_solve): 9.36114813260487e-17\n",
        "min(x) (gth_solve): 0.0781422943414566\n",
        "||x| - 1| (gth_solve): 0.0\n",
        "|xA| (gth_solve): 7.67770598492969e-17\n",
        "min(x) (gth_solve): 0.147330075396857\n",
        "||x| - 1| (gth_solve): 0.0\n",
        "|xA| (gth_solve): 1.00156423662534e-16\n",
        "min(x) (gth_solve): 0.174286079505956\n",
        "||x| - 1| (gth_solve): 0.0\n",
        "PASSED"
       ]
      },
      {
       "output_type": "stream",
       "stream": "stdout",
       "text": [
        "\n"
       ]
      },
      {
       "output_type": "stream",
       "stream": "stdout",
       "text": [
        "\n"
       ]
      },
      {
       "output_type": "stream",
       "stream": "stdout",
       "text": [
        "=============================================== 4 passed in 0.28 seconds ==============================================="
       ]
      },
      {
       "output_type": "stream",
       "stream": "stdout",
       "text": [
        "\n"
       ]
      }
     ],
     "prompt_number": 2
    },
    {
     "cell_type": "code",
     "collapsed": false,
     "input": [],
     "language": "python",
     "metadata": {},
     "outputs": [],
     "prompt_number": 2
    }
   ],
   "metadata": {}
  }
 ]
}