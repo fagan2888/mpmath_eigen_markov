{
 "metadata": {
  "name": "",
  "signature": "sha256:b59394aed43b0cfb09682c23241a68ebe14dfac5f659684e52ff5932d3c90909"
 },
 "nbformat": 3,
 "nbformat_minor": 0,
 "worksheets": [
  {
   "cells": [
    {
     "cell_type": "heading",
     "level": 1,
     "metadata": {},
     "source": [
      "pytest outcome"
     ]
    },
    {
     "cell_type": "code",
     "collapsed": false,
     "input": [
      "%run test_eigen_markov.py -v"
     ],
     "language": "python",
     "metadata": {},
     "outputs": [
      {
       "output_type": "stream",
       "stream": "stdout",
       "text": [
        "================================================= test session starts =================================================="
       ]
      },
      {
       "output_type": "stream",
       "stream": "stdout",
       "text": [
        "\n"
       ]
      },
      {
       "output_type": "stream",
       "stream": "stdout",
       "text": [
        "platform darwin -- Python 2.7.8 -- py-1.4.23 -- pytest-2.6.1 -- /usr/local/opt/python/bin/python2.7"
       ]
      },
      {
       "output_type": "stream",
       "stream": "stdout",
       "text": [
        "\n"
       ]
      },
      {
       "output_type": "stream",
       "stream": "stdout",
       "text": [
        "collecting ... "
       ]
      },
      {
       "output_type": "stream",
       "stream": "stdout",
       "text": [
        "collected 10 items"
       ]
      },
      {
       "output_type": "stream",
       "stream": "stdout",
       "text": [
        "\n"
       ]
      },
      {
       "output_type": "stream",
       "stream": "stdout",
       "text": [
        "\n"
       ]
      },
      {
       "output_type": "stream",
       "stream": "stdout",
       "text": [
        "test_eigen_markov.py::test_stoch_eig_fixed_matrix "
       ]
      },
      {
       "output_type": "stream",
       "stream": "stdout",
       "text": [
        "PASSED"
       ]
      },
      {
       "output_type": "stream",
       "stream": "stdout",
       "text": [
        "\n"
       ]
      },
      {
       "output_type": "stream",
       "stream": "stdout",
       "text": [
        "test_eigen_markov.py::test_gth_solve_fixed_matrix "
       ]
      },
      {
       "output_type": "stream",
       "stream": "stdout",
       "text": [
        "PASSED"
       ]
      },
      {
       "output_type": "stream",
       "stream": "stdout",
       "text": [
        "\n"
       ]
      },
      {
       "output_type": "stream",
       "stream": "stdout",
       "text": [
        "test_eigen_markov.py::test_stoch_eig_randmatrix "
       ]
      },
      {
       "output_type": "stream",
       "stream": "stdout",
       "text": [
        "PASSED"
       ]
      },
      {
       "output_type": "stream",
       "stream": "stdout",
       "text": [
        "\n"
       ]
      },
      {
       "output_type": "stream",
       "stream": "stdout",
       "text": [
        "test_eigen_markov.py::test_gth_solve_randmatrix "
       ]
      },
      {
       "output_type": "stream",
       "stream": "stdout",
       "text": [
        "PASSED"
       ]
      },
      {
       "output_type": "stream",
       "stream": "stdout",
       "text": [
        "\n"
       ]
      },
      {
       "output_type": "stream",
       "stream": "stdout",
       "text": [
        "test_eigen_markov.py::test_stoch_eig_high_prec "
       ]
      },
      {
       "output_type": "stream",
       "stream": "stdout",
       "text": [
        "PASSED"
       ]
      },
      {
       "output_type": "stream",
       "stream": "stdout",
       "text": [
        "\n"
       ]
      },
      {
       "output_type": "stream",
       "stream": "stdout",
       "text": [
        "test_eigen_markov.py::test_gth_solve_high_prec "
       ]
      },
      {
       "output_type": "stream",
       "stream": "stdout",
       "text": [
        "PASSED"
       ]
      },
      {
       "output_type": "stream",
       "stream": "stdout",
       "text": [
        "\n"
       ]
      },
      {
       "output_type": "stream",
       "stream": "stdout",
       "text": [
        "test_eigen_markov.py::test_stoch_eig_fp "
       ]
      },
      {
       "output_type": "stream",
       "stream": "stdout",
       "text": [
        "PASSED"
       ]
      },
      {
       "output_type": "stream",
       "stream": "stdout",
       "text": [
        "\n"
       ]
      },
      {
       "output_type": "stream",
       "stream": "stdout",
       "text": [
        "test_eigen_markov.py::test_gth_solve_fp "
       ]
      },
      {
       "output_type": "stream",
       "stream": "stdout",
       "text": [
        "PASSED"
       ]
      },
      {
       "output_type": "stream",
       "stream": "stdout",
       "text": [
        "\n"
       ]
      },
      {
       "output_type": "stream",
       "stream": "stdout",
       "text": [
        "test_eigen_markov.py::test_stoch_eig_iv "
       ]
      },
      {
       "output_type": "stream",
       "stream": "stdout",
       "text": [
        "PASSED"
       ]
      },
      {
       "output_type": "stream",
       "stream": "stdout",
       "text": [
        "\n"
       ]
      },
      {
       "output_type": "stream",
       "stream": "stdout",
       "text": [
        "test_eigen_markov.py::test_gth_solve_iv "
       ]
      },
      {
       "output_type": "stream",
       "stream": "stdout",
       "text": [
        "PASSED"
       ]
      },
      {
       "output_type": "stream",
       "stream": "stdout",
       "text": [
        "\n"
       ]
      },
      {
       "output_type": "stream",
       "stream": "stdout",
       "text": [
        "\n"
       ]
      },
      {
       "output_type": "stream",
       "stream": "stdout",
       "text": [
        "============================================== 10 passed in 0.37 seconds ==============================================="
       ]
      },
      {
       "output_type": "stream",
       "stream": "stdout",
       "text": [
        "\n"
       ]
      }
     ],
     "prompt_number": 1
    },
    {
     "cell_type": "code",
     "collapsed": false,
     "input": [
      "# Run with VERBOSE=1\n",
      "%run test_eigen_markov.py -v -s"
     ],
     "language": "python",
     "metadata": {},
     "outputs": [
      {
       "output_type": "stream",
       "stream": "stdout",
       "text": [
        "================================================= test session starts =================================================="
       ]
      },
      {
       "output_type": "stream",
       "stream": "stdout",
       "text": [
        "\n"
       ]
      },
      {
       "output_type": "stream",
       "stream": "stdout",
       "text": [
        "platform darwin -- Python 2.7.8 -- py-1.4.23 -- pytest-2.6.1 -- /usr/local/opt/python/bin/python2.7"
       ]
      },
      {
       "output_type": "stream",
       "stream": "stdout",
       "text": [
        "\n"
       ]
      },
      {
       "output_type": "stream",
       "stream": "stdout",
       "text": [
        "collecting ... "
       ]
      },
      {
       "output_type": "stream",
       "stream": "stdout",
       "text": [
        "collected 10 items"
       ]
      },
      {
       "output_type": "stream",
       "stream": "stdout",
       "text": [
        "\n"
       ]
      },
      {
       "output_type": "stream",
       "stream": "stdout",
       "text": [
        "\n"
       ]
      },
      {
       "output_type": "stream",
       "stream": "stdout",
       "text": [
        "test_eigen_markov.py::test_stoch_eig_fixed_matrix "
       ]
      },
      {
       "output_type": "stream",
       "stream": "stdout",
       "text": [
        "|xP - x| (stoch_eig): 0.0\n",
        "min(x) (stoch_eig): 0.0625\n",
        "||x| - 1| (stoch_eig): 0.0\n",
        "|xP - x| (stoch_eig): 0.0\n",
        "min(x) (stoch_eig): 7.49999999999992e-29\n",
        "||x| - 1| (stoch_eig): 0.0\n",
        "|xP - x| (stoch_eig):"
       ]
      },
      {
       "output_type": "stream",
       "stream": "stdout",
       "text": [
        " 8.27180612649327e-25\n",
        "min(x) (stoch_eig): 1.70901762889315e-35\n",
        "||x| - 1| (stoch_eig): 0.0\n",
        "PASSED"
       ]
      },
      {
       "output_type": "stream",
       "stream": "stdout",
       "text": [
        "\n"
       ]
      },
      {
       "output_type": "stream",
       "stream": "stdout",
       "text": [
        "test_eigen_markov.py::test_gth_solve_fixed_matrix "
       ]
      },
      {
       "output_type": "stream",
       "stream": "stdout",
       "text": [
        "|xA| (gth_solve): 1.21430643318376e-17\n",
        "min(x) (gth_solve): 0.0625\n",
        "||x| - 1| (gth_solve): 0.0\n",
        "|xA| (gth_solve): 5.98539071775889e-31\n",
        "min(x) (gth_solve): 7.49999999999992e-29\n",
        "||x| - 1| (gth_solve): 0.0\n",
        "|xA| (gth_solve):"
       ]
      },
      {
       "output_type": "stream",
       "stream": "stdout",
       "text": [
        " 9.60332761504887e-20\n",
        "min(x) (gth_solve): 1.70901762889315e-35\n",
        "||x| - 1| (gth_solve): 0.0\n",
        "PASSED"
       ]
      },
      {
       "output_type": "stream",
       "stream": "stdout",
       "text": [
        "\n"
       ]
      },
      {
       "output_type": "stream",
       "stream": "stdout",
       "text": [
        "test_eigen_markov.py::test_stoch_eig_randmatrix "
       ]
      },
      {
       "output_type": "stream",
       "stream": "stdout",
       "text": [
        "|xP - x| (stoch_eig): 4.16333634234434e-17\n",
        "min(x) (stoch_eig): 0.118448788444319\n",
        "||x| - 1| (stoch_eig): 0.0\n",
        "|xP - x| (stoch_eig): 2.77555756156289e-17\n",
        "min(x) (stoch_eig): 0.145405440075323\n",
        "||x| - 1| (stoch_eig): 0.0\n",
        "|xP - x| (stoch_eig): 1.2490009027033e-16\n",
        "min(x) (stoch_eig): 0.113044207028281\n",
        "||x| - 1| (stoch_eig): 0.0\n",
        "|xP - x| (stoch_eig): 1.38777878078145e-17\n",
        "min(x) (stoch_eig): 0.119179475824428\n",
        "||x| - 1| (stoch_eig): 0.0\n",
        "|xP - x| (stoch_eig): 8.32667268468867e-17\n",
        "min(x) (stoch_eig): 0.138963283329197\n",
        "||x| - 1| (stoch_eig): 0.0\n",
        "|xP - x| (stoch_eig): 8.32667268468867e-17\n",
        "min(x) (stoch_eig): 0.140905060770004\n",
        "||x| - 1| (stoch_eig): 0.0\n",
        "|xP - x| (stoch_eig): 1.11022302462516e-16\n",
        "min(x) (stoch_eig): 0.173022613458597\n",
        "||x| - 1| (stoch_eig): 0.0\n",
        "|xP - x| (stoch_eig): 1.11022302462516e-16\n",
        "min(x) (stoch_eig): 0.154047895965151\n",
        "||x| - 1| (stoch_eig): 0.0\n",
        "|xP - x| (stoch_eig): 2.77555756156289e-17\n",
        "min(x) (stoch_eig): 0.168487210517242\n",
        "||x| - 1| (stoch_eig): 0.0\n",
        "|xP - x| (stoch_eig): 2.77555756156289e-17\n",
        "min(x) (stoch_eig): 0.158748746161785\n",
        "||x| - 1| (stoch_eig): 0.0\n",
        "PASSED"
       ]
      },
      {
       "output_type": "stream",
       "stream": "stdout",
       "text": [
        "\n"
       ]
      },
      {
       "output_type": "stream",
       "stream": "stdout",
       "text": [
        "test_eigen_markov.py::test_gth_solve_randmatrix "
       ]
      },
      {
       "output_type": "stream",
       "stream": "stdout",
       "text": [
        "|xA| (gth_solve): 4.98387458561594e-17\n",
        "min(x) (gth_solve): 0.0956295033192777\n",
        "||x| - 1| (gth_solve): 0.0\n",
        "|xA| (gth_solve): 5.96609308185404e-17\n",
        "min(x) (gth_solve): 0.117726520991509\n",
        "||x| - 1| (gth_solve): 0.0\n",
        "|xA| (gth_solve): 1.03439383389457e-16\n",
        "min(x) (gth_solve): 0.153758668439307\n",
        "||x| - 1| (gth_solve): 0.0\n",
        "|xA| (gth_solve): 8.11655850099578e-17\n",
        "min(x) (gth_solve): 0.0758871385395198\n",
        "||x| - 1| (gth_solve): 0.0\n",
        "|xA| (gth_solve): 7.17510286879761e-17\n",
        "min(x) (gth_solve): 0.109756097008395\n",
        "||x| - 1| (gth_solve): 0.0\n",
        "|xA| (gth_solve): 3.17292635944698e-17\n",
        "min(x) (gth_solve): 0.126851443115182\n",
        "||x| - 1| (gth_solve): 0.0\n",
        "|xA| (gth_solve): 7.47779601876655e-17\n",
        "min(x) (gth_solve): 0.139730181232058\n",
        "||x| - 1| (gth_solve): 0.0\n",
        "|xA| (gth_solve): 9.96562709948562e-17\n",
        "min(x) (gth_solve): 0.147657882075962\n",
        "||x| - 1| (gth_solve): 0.0\n",
        "|xA| (gth_solve): 4.72980469976696e-17\n",
        "min(x) (gth_solve): 0.053769567045124\n",
        "||x| - 1| (gth_solve): 0.0\n",
        "|xA| (gth_solve): 7.53784341821005e-17\n",
        "min(x) (gth_solve): 0.159002371678555\n",
        "||x| - 1| (gth_solve): 0.0\n",
        "PASSED"
       ]
      },
      {
       "output_type": "stream",
       "stream": "stdout",
       "text": [
        "\n"
       ]
      },
      {
       "output_type": "stream",
       "stream": "stdout",
       "text": [
        "test_eigen_markov.py::test_stoch_eig_high_prec "
       ]
      },
      {
       "output_type": "stream",
       "stream": "stdout",
       "text": [
        "|xP - x| (stoch_eig): 0.0\n",
        "min(x) (stoch_eig): 0.25\n",
        "||x| - 1| (stoch_eig): 0.0\n",
        "PASSED"
       ]
      },
      {
       "output_type": "stream",
       "stream": "stdout",
       "text": [
        "\n"
       ]
      },
      {
       "output_type": "stream",
       "stream": "stdout",
       "text": [
        "test_eigen_markov.py::test_gth_solve_high_prec "
       ]
      },
      {
       "output_type": "stream",
       "stream": "stdout",
       "text": [
        "|xA| (gth_solve): 0.0\n",
        "min(x) (gth_solve): 0.25\n",
        "||x| - 1| (gth_solve): 0.0\n",
        "PASSED"
       ]
      },
      {
       "output_type": "stream",
       "stream": "stdout",
       "text": [
        "\n"
       ]
      },
      {
       "output_type": "stream",
       "stream": "stdout",
       "text": [
        "test_eigen_markov.py::test_stoch_eig_fp "
       ]
      },
      {
       "output_type": "stream",
       "stream": "stdout",
       "text": [
        "PASSED"
       ]
      },
      {
       "output_type": "stream",
       "stream": "stdout",
       "text": [
        "\n"
       ]
      },
      {
       "output_type": "stream",
       "stream": "stdout",
       "text": [
        "test_eigen_markov.py::test_gth_solve_fp "
       ]
      },
      {
       "output_type": "stream",
       "stream": "stdout",
       "text": [
        "PASSED"
       ]
      },
      {
       "output_type": "stream",
       "stream": "stdout",
       "text": [
        "\n"
       ]
      },
      {
       "output_type": "stream",
       "stream": "stdout",
       "text": [
        "test_eigen_markov.py::test_stoch_eig_iv "
       ]
      },
      {
       "output_type": "stream",
       "stream": "stdout",
       "text": [
        "PASSED"
       ]
      },
      {
       "output_type": "stream",
       "stream": "stdout",
       "text": [
        "\n"
       ]
      },
      {
       "output_type": "stream",
       "stream": "stdout",
       "text": [
        "test_eigen_markov.py::test_gth_solve_iv "
       ]
      },
      {
       "output_type": "stream",
       "stream": "stdout",
       "text": [
        "PASSED"
       ]
      },
      {
       "output_type": "stream",
       "stream": "stdout",
       "text": [
        "\n"
       ]
      },
      {
       "output_type": "stream",
       "stream": "stdout",
       "text": [
        "\n"
       ]
      },
      {
       "output_type": "stream",
       "stream": "stdout",
       "text": [
        "============================================== 10 passed in 0.36 seconds ==============================================="
       ]
      },
      {
       "output_type": "stream",
       "stream": "stdout",
       "text": [
        "\n"
       ]
      }
     ],
     "prompt_number": 2
    },
    {
     "cell_type": "code",
     "collapsed": false,
     "input": [],
     "language": "python",
     "metadata": {},
     "outputs": [],
     "prompt_number": 2
    }
   ],
   "metadata": {}
  }
 ]
}