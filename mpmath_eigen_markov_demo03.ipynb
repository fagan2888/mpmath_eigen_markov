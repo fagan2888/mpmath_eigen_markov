{
 "metadata": {
  "name": "",
  "signature": "sha256:27be44bc696abb20805d54dab2f0a41d370cad85d284795a14eada1967d91e40"
 },
 "nbformat": 3,
 "nbformat_minor": 0,
 "worksheets": [
  {
   "cells": [
    {
     "cell_type": "heading",
     "level": 1,
     "metadata": {},
     "source": [
      "eigen_markov: Illustration 3"
     ]
    },
    {
     "cell_type": "markdown",
     "metadata": {},
     "source": [
      "Comparison with\n",
      "[numpy.linalg.eig](http://docs.scipy.org/doc/numpy/reference/generated/numpy.linalg.eig.html)\n",
      "and\n",
      "[scipy.linalg.eig](http://docs.scipy.org/doc/scipy/reference/generated/scipy.linalg.eig.html)"
     ]
    },
    {
     "cell_type": "code",
     "collapsed": false,
     "input": [
      "import numpy as np\n",
      "import scipy.linalg\n",
      "import mpmath as mp\n",
      "from eigen_markov import stoch_eig"
     ],
     "language": "python",
     "metadata": {},
     "outputs": [],
     "prompt_number": 1
    },
    {
     "cell_type": "markdown",
     "metadata": {},
     "source": [
      "We consider $2 \\times 2$ Markov transition matrices:"
     ]
    },
    {
     "cell_type": "code",
     "collapsed": false,
     "input": [
      "def P(x, y):\n",
      "    return np.array([[1-x, x], [y, 1-y]])"
     ],
     "language": "python",
     "metadata": {},
     "outputs": [],
     "prompt_number": 2
    },
    {
     "cell_type": "markdown",
     "metadata": {},
     "source": [
      "Simple example:"
     ]
    },
    {
     "cell_type": "code",
     "collapsed": false,
     "input": [
      "P0 = P(0.4, 0.2)\n",
      "print P0"
     ],
     "language": "python",
     "metadata": {},
     "outputs": [
      {
       "output_type": "stream",
       "stream": "stdout",
       "text": [
        "[[ 0.6  0.4]\n",
        " [ 0.2  0.8]]\n"
       ]
      }
     ],
     "prompt_number": 3
    },
    {
     "cell_type": "markdown",
     "metadata": {},
     "source": [
      "First, let `np.linalg.eig` compute the eigenvectors:"
     ]
    },
    {
     "cell_type": "code",
     "collapsed": false,
     "input": [
      "vals0, vecs0 = np.linalg.eig(P0.T)\n",
      "print vals0\n",
      "print vecs0"
     ],
     "language": "python",
     "metadata": {},
     "outputs": [
      {
       "output_type": "stream",
       "stream": "stdout",
       "text": [
        "[ 0.4  1. ]\n",
        "[[-0.70710678 -0.4472136 ]\n",
        " [ 0.70710678 -0.89442719]]\n"
       ]
      }
     ],
     "prompt_number": 4
    },
    {
     "cell_type": "markdown",
     "metadata": {},
     "source": [
      "The second *column* corresponds to the dominant eigenvalue, which is $1$:"
     ]
    },
    {
     "cell_type": "code",
     "collapsed": false,
     "input": [
      "vecs0[:, 1] / sum(vecs0[:, 1])"
     ],
     "language": "python",
     "metadata": {},
     "outputs": [
      {
       "metadata": {},
       "output_type": "pyout",
       "prompt_number": 5,
       "text": [
        "array([ 0.33333333,  0.66666667])"
       ]
      }
     ],
     "prompt_number": 5
    },
    {
     "cell_type": "markdown",
     "metadata": {},
     "source": [
      "Next, let `scipy.linalg.eig` compute the eigenvectors:"
     ]
    },
    {
     "cell_type": "code",
     "collapsed": false,
     "input": [
      "vals1, vecs1 = scipy.linalg.eig(P0, left=True, right=False)\n",
      "print vals1\n",
      "print vecs1"
     ],
     "language": "python",
     "metadata": {},
     "outputs": [
      {
       "output_type": "stream",
       "stream": "stdout",
       "text": [
        "[ 0.4+0.j  1.0+0.j]\n",
        "[[-0.70710678 -0.4472136 ]\n",
        " [ 0.70710678 -0.89442719]]\n"
       ]
      }
     ],
     "prompt_number": 6
    },
    {
     "cell_type": "markdown",
     "metadata": {},
     "source": [
      "Again, the second *column* corresponds to the dominant eigenvalue:"
     ]
    },
    {
     "cell_type": "code",
     "collapsed": false,
     "input": [
      "vecs1[:, 1] / sum(vecs1[:, 1])"
     ],
     "language": "python",
     "metadata": {},
     "outputs": [
      {
       "metadata": {},
       "output_type": "pyout",
       "prompt_number": 7,
       "text": [
        "array([ 0.33333333,  0.66666667])"
       ]
      }
     ],
     "prompt_number": 7
    },
    {
     "cell_type": "markdown",
     "metadata": {},
     "source": [
      "Finally, let `stoch_eig` compute the eigenvector that belongs to eigenvalue $1$:"
     ]
    },
    {
     "cell_type": "code",
     "collapsed": false,
     "input": [
      "mp.mp.stoch_eig(P0)"
     ],
     "language": "python",
     "metadata": {},
     "outputs": [
      {
       "metadata": {},
       "output_type": "pyout",
       "prompt_number": 8,
       "text": [
        "matrix(\n",
        "[['0.333333333333333', '0.666666666666667']])"
       ]
      }
     ],
     "prompt_number": 8
    },
    {
     "cell_type": "code",
     "collapsed": false,
     "input": [
      "def stoch_eig_by_numpy(P):\n",
      "    vals, vecs = np.linalg.eig(P.T)\n",
      "    indeces = [0, 1]\n",
      "    \n",
      "    print 'Eigenvalues:', vals\n",
      "    if vals[0] > vals[1]: ineq = '>'\n",
      "    elif vals[0] < vals[1]: ineq = '<'\n",
      "    else: ineq = '=='\n",
      "    print 'vals[0] {0} vals[1]'.format(ineq)\n",
      "\n",
      "    print 'Dominant eigenvector :', vecs[:, indeces.pop(np.argmax(vals))]/sum(vecs[:, np.argmax(vals)])\n",
      "    print 'The other eigenvector:', vecs[:, indeces[0]]/sum(vecs[:, indeces[0]])"
     ],
     "language": "python",
     "metadata": {},
     "outputs": [],
     "prompt_number": 9
    },
    {
     "cell_type": "code",
     "collapsed": false,
     "input": [
      "stoch_eig_by_numpy(P0)"
     ],
     "language": "python",
     "metadata": {},
     "outputs": [
      {
       "output_type": "stream",
       "stream": "stdout",
       "text": [
        "Eigenvalues: [ 0.4  1. ]\n",
        "vals[0] < vals[1]\n",
        "Dominant eigenvector : [ 0.33333333  0.66666667]\n",
        "The other eigenvector: [  6.36905167e+15  -6.36905167e+15]\n"
       ]
      }
     ],
     "prompt_number": 10
    },
    {
     "cell_type": "code",
     "collapsed": false,
     "input": [
      "def stoch_eig_by_scipy(P):\n",
      "    vals, vecs = scipy.linalg.eig(P, left=True, right=False)\n",
      "    indeces = [0, 1]\n",
      "    \n",
      "    print 'Eigenvalues:', vals\n",
      "    if vals[0] > vals[1]: ineq = '>'\n",
      "    elif vals[0] < vals[1]: ineq = '<'\n",
      "    else: ineq = '=='\n",
      "    print 'vals[0] {0} vals[1]'.format(ineq)\n",
      "\n",
      "    print 'Dominant eigenvector :', vecs[:, indeces.pop(np.argmax(vals))]/sum(vecs[:, np.argmax(vals)])\n",
      "    print 'The other eigenvector:', vecs[:, indeces[0]]/sum(vecs[:, indeces[0]])"
     ],
     "language": "python",
     "metadata": {},
     "outputs": [],
     "prompt_number": 11
    },
    {
     "cell_type": "code",
     "collapsed": false,
     "input": [
      "stoch_eig_by_scipy(P0)"
     ],
     "language": "python",
     "metadata": {},
     "outputs": [
      {
       "output_type": "stream",
       "stream": "stdout",
       "text": [
        "Eigenvalues: [ 0.4+0.j  1.0+0.j]\n",
        "vals[0] < vals[1]\n",
        "Dominant eigenvector : [ 0.33333333  0.66666667]\n",
        "The other eigenvector: [  6.36905167e+15  -6.36905167e+15]\n"
       ]
      }
     ],
     "prompt_number": 12
    },
    {
     "cell_type": "heading",
     "level": 2,
     "metadata": {},
     "source": [
      "Examples with very small entries"
     ]
    },
    {
     "cell_type": "markdown",
     "metadata": {},
     "source": [
      "We consier P(x, x/2) for x very small:"
     ]
    },
    {
     "cell_type": "code",
     "collapsed": false,
     "input": [
      "xs = [float('1e-'+str(i)) for i in range(14, 19)]\n",
      "print xs"
     ],
     "language": "python",
     "metadata": {},
     "outputs": [
      {
       "output_type": "stream",
       "stream": "stdout",
       "text": [
        "[1e-14, 1e-15, 1e-16, 1e-17, 1e-18]\n"
       ]
      }
     ],
     "prompt_number": 13
    },
    {
     "cell_type": "markdown",
     "metadata": {},
     "source": [
      "For example, if x = 1e-14:"
     ]
    },
    {
     "cell_type": "code",
     "collapsed": false,
     "input": [
      "print P(1e-14, 1e-14/2)"
     ],
     "language": "python",
     "metadata": {},
     "outputs": [
      {
       "output_type": "stream",
       "stream": "stdout",
       "text": [
        "[[  1.00000000e+00   1.00000000e-14]\n",
        " [  5.00000000e-15   1.00000000e+00]]\n"
       ]
      }
     ],
     "prompt_number": 14
    },
    {
     "cell_type": "markdown",
     "metadata": {},
     "source": [
      "Verify that the eigenvalues are $1$ and $1 - \\frac{3}{2} x$."
     ]
    },
    {
     "cell_type": "heading",
     "level": 3,
     "metadata": {},
     "source": [
      "numpy.linalg.eig"
     ]
    },
    {
     "cell_type": "markdown",
     "metadata": {},
     "source": [
      "Exhibits strange behavior for x <= 1e-16:"
     ]
    },
    {
     "cell_type": "code",
     "collapsed": false,
     "input": [
      "for x in xs:\n",
      "    print 'x =', x\n",
      "    stoch_eig_by_numpy(P(x, x/2))"
     ],
     "language": "python",
     "metadata": {},
     "outputs": [
      {
       "output_type": "stream",
       "stream": "stdout",
       "text": [
        "x = 1e-14\n",
        "Eigenvalues: [ 1.  1.]\n",
        "vals[0] < vals[1]\n",
        "Dominant eigenvector : [ 0.33327403  0.66672597]\n",
        "The other eigenvector: [-3752.72158846  3753.72158846]\n",
        "x = 1e-15\n",
        "Eigenvalues: [ 1.  1.]\n",
        "vals[0] > vals[1]\n",
        "Dominant eigenvector : [ 0.34787795  0.65212205]\n",
        "The other eigenvector: [ 812.45122444 -811.45122444]\n",
        "x = 1e-16\n",
        "Eigenvalues: [ 1.  1.]\n",
        "vals[0] < vals[1]\n",
        "Dominant eigenvector : [-0.29062231  1.29062231]\n",
        "The other eigenvector: [ 1.  0.]\n",
        "x = 1e-17\n",
        "Eigenvalues: [ 1.  1.]\n",
        "vals[0] == vals[1]\n",
        "Dominant eigenvector : [ 0.41421356  0.58578644]\n",
        "The other eigenvector: [ 3.86742915 -2.86742915]\n",
        "x = 1e-18\n",
        "Eigenvalues: [ 1.  1.]\n",
        "vals[0] == vals[1]\n",
        "Dominant eigenvector : [ 0.41421356  0.58578644]\n",
        "The other eigenvector: [ 3.45411054 -2.45411054]\n"
       ]
      }
     ],
     "prompt_number": 15
    },
    {
     "cell_type": "heading",
     "level": 3,
     "metadata": {},
     "source": [
      "scipy.linalg.eig"
     ]
    },
    {
     "cell_type": "markdown",
     "metadata": {},
     "source": [
      "Exhibits strange behavior for x <= 1e-16:"
     ]
    },
    {
     "cell_type": "code",
     "collapsed": false,
     "input": [
      "for x in xs:\n",
      "    print 'x =', x\n",
      "    stoch_eig_by_scipy(P(x, x/2))"
     ],
     "language": "python",
     "metadata": {},
     "outputs": [
      {
       "output_type": "stream",
       "stream": "stdout",
       "text": [
        "x = 1e-14\n",
        "Eigenvalues: [ 1.+0.j  1.+0.j]\n",
        "vals[0] < vals[1]\n",
        "Dominant eigenvector : [ 0.33339254  0.66660746]\n",
        "The other eigenvector: [-1442.33654404  1443.33654404]\n",
        "x = 1e-15\n",
        "Eigenvalues: [ 1.+0.j  1.+0.j]\n",
        "vals[0] > vals[1]\n",
        "Dominant eigenvector : [ 0.35008639  0.64991361]\n",
        "The other eigenvector: [-24.87742252  25.87742252]\n",
        "x = 1e-16\n",
        "Eigenvalues: [ 1.+0.j  1.+0.j]\n",
        "vals[0] < vals[1]\n",
        "Dominant eigenvector : [ 0.  1.]\n",
        "The other eigenvector: [ 1.81937256 -0.81937256]\n",
        "x = 1e-17\n",
        "Eigenvalues: [ 1.+0.j  1.+0.j]\n",
        "vals[0] == vals[1]\n",
        "Dominant eigenvector : [ 0.59742182  0.40257818]\n",
        "The other eigenvector: [-2.41421356  3.41421356]\n",
        "x = 1e-18\n",
        "Eigenvalues: [ 1.+0.j  1.+0.j]\n",
        "vals[0] == vals[1]\n",
        "Dominant eigenvector : [ 0.58694593  0.41305407]\n",
        "The other eigenvector: [-2.41421356  3.41421356]\n"
       ]
      }
     ],
     "prompt_number": 16
    },
    {
     "cell_type": "heading",
     "level": 3,
     "metadata": {},
     "source": [
      "stoch_eig"
     ]
    },
    {
     "cell_type": "markdown",
     "metadata": {},
     "source": [
      "Always returns the correct answer:"
     ]
    },
    {
     "cell_type": "code",
     "collapsed": false,
     "input": [
      "for x in xs:\n",
      "    print 'x =', x\n",
      "    print mp.mp.stoch_eig(P(x, x/2))"
     ],
     "language": "python",
     "metadata": {},
     "outputs": [
      {
       "output_type": "stream",
       "stream": "stdout",
       "text": [
        "x = 1e-14\n",
        "[0.333333333333333  0.666666666666667]\n",
        "x = 1e-15\n",
        "[0.333333333333333  0.666666666666667]\n",
        "x = 1e-16\n",
        "[0.333333333333333  0.666666666666667]\n",
        "x = 1e-17\n",
        "[0.333333333333333  0.666666666666667]\n",
        "x = 1e-18\n",
        "[0.333333333333333  0.666666666666667]\n"
       ]
      }
     ],
     "prompt_number": 17
    },
    {
     "cell_type": "code",
     "collapsed": false,
     "input": [
      "for x in xs:\n",
      "    print 'x =', x\n",
      "    print mp.fp.stoch_eig(P(x, x/2))"
     ],
     "language": "python",
     "metadata": {},
     "outputs": [
      {
       "output_type": "stream",
       "stream": "stdout",
       "text": [
        "x = 1e-14\n",
        "[0.333333333333  0.666666666667]\n",
        "x = 1e-15\n",
        "[0.333333333333  0.666666666667]\n",
        "x = 1e-16\n",
        "[0.333333333333  0.666666666667]\n",
        "x = 1e-17\n",
        "[0.333333333333  0.666666666667]\n",
        "x = 1e-18\n",
        "[0.333333333333  0.666666666667]\n"
       ]
      }
     ],
     "prompt_number": 18
    },
    {
     "cell_type": "heading",
     "level": 2,
     "metadata": {},
     "source": [
      "Performance comparison"
     ]
    },
    {
     "cell_type": "code",
     "collapsed": false,
     "input": [
      "%timeit np.linalg.eig(P0.T)\n",
      "%timeit scipy.linalg.eig(P0, left=True, right=False)\n",
      "%timeit mp.mp.stoch_eig(P0)\n",
      "%timeit mp.fp.stoch_eig(P0)"
     ],
     "language": "python",
     "metadata": {},
     "outputs": [
      {
       "output_type": "stream",
       "stream": "stdout",
       "text": [
        "10000 loops, best of 3: 60.8 \u00b5s per loop\n",
        "10000 loops, best of 3: 66.5 \u00b5s per loop"
       ]
      },
      {
       "output_type": "stream",
       "stream": "stdout",
       "text": [
        "\n",
        "1000 loops, best of 3: 242 \u00b5s per loop"
       ]
      },
      {
       "output_type": "stream",
       "stream": "stdout",
       "text": [
        "\n",
        "10000 loops, best of 3: 123 \u00b5s per loop"
       ]
      },
      {
       "output_type": "stream",
       "stream": "stdout",
       "text": [
        "\n"
       ]
      }
     ],
     "prompt_number": 19
    },
    {
     "cell_type": "code",
     "collapsed": false,
     "input": [
      "import platform\n",
      "platform.platform()"
     ],
     "language": "python",
     "metadata": {},
     "outputs": [
      {
       "metadata": {},
       "output_type": "pyout",
       "prompt_number": 20,
       "text": [
        "'Darwin-10.8.0-i386-64bit'"
       ]
      }
     ],
     "prompt_number": 20
    },
    {
     "cell_type": "code",
     "collapsed": false,
     "input": [
      "import sys\n",
      "print sys.version"
     ],
     "language": "python",
     "metadata": {},
     "outputs": [
      {
       "output_type": "stream",
       "stream": "stdout",
       "text": [
        "2.7.8 (default, Aug 12 2014, 11:32:49) \n",
        "[GCC 4.2.1 (Apple Inc. build 5666) (dot 3)]\n"
       ]
      }
     ],
     "prompt_number": 21
    },
    {
     "cell_type": "code",
     "collapsed": false,
     "input": [
      "np.__version__"
     ],
     "language": "python",
     "metadata": {},
     "outputs": [
      {
       "metadata": {},
       "output_type": "pyout",
       "prompt_number": 22,
       "text": [
        "'1.8.2'"
       ]
      }
     ],
     "prompt_number": 22
    },
    {
     "cell_type": "code",
     "collapsed": false,
     "input": [
      "scipy.__version__"
     ],
     "language": "python",
     "metadata": {},
     "outputs": [
      {
       "metadata": {},
       "output_type": "pyout",
       "prompt_number": 23,
       "text": [
        "'0.14.0'"
       ]
      }
     ],
     "prompt_number": 23
    },
    {
     "cell_type": "code",
     "collapsed": false,
     "input": [
      "mp.__version__"
     ],
     "language": "python",
     "metadata": {},
     "outputs": [
      {
       "metadata": {},
       "output_type": "pyout",
       "prompt_number": 24,
       "text": [
        "'0.19'"
       ]
      }
     ],
     "prompt_number": 24
    },
    {
     "cell_type": "code",
     "collapsed": false,
     "input": [],
     "language": "python",
     "metadata": {},
     "outputs": [],
     "prompt_number": 24
    }
   ],
   "metadata": {}
  }
 ]
}