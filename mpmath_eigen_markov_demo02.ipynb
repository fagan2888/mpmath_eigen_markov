{
 "metadata": {
  "name": "",
  "signature": "sha256:97cf5530b7008b6ba53c72671c1fbe1cc37ef2646d8c23ad6f758ef21d098a0d"
 },
 "nbformat": 3,
 "nbformat_minor": 0,
 "worksheets": [
  {
   "cells": [
    {
     "cell_type": "heading",
     "level": 1,
     "metadata": {},
     "source": [
      "eigen_markov: Illustration 2"
     ]
    },
    {
     "cell_type": "markdown",
     "metadata": {},
     "source": [
      "Performance comparison: mp vs. fp and \"overwrite=False\" vs. \"overwrite=True\"\n",
      "\n",
      "It turns out that fp is 2x-3x faster than mp, while \"overwrite=True\" does not imporve!"
     ]
    },
    {
     "cell_type": "code",
     "collapsed": false,
     "input": [
      "import mpmath as mp"
     ],
     "language": "python",
     "metadata": {},
     "outputs": [],
     "prompt_number": 1
    },
    {
     "cell_type": "code",
     "collapsed": false,
     "input": [
      "from eigen_markov import stoch_eig, gth_solve"
     ],
     "language": "python",
     "metadata": {},
     "outputs": [],
     "prompt_number": 2
    },
    {
     "cell_type": "code",
     "collapsed": false,
     "input": [
      "sizes = [10, 30, 50, 100]\n",
      "rand_matrices_mp = []\n",
      "rand_matrices_mp_copy = []  # Will test \"overwrite=True\"\n",
      "\n",
      "for n in sizes:\n",
      "    P = mp.randmatrix(n, n)\n",
      "    for i in range(n):\n",
      "        P[i, :] /= mp.fsum(P[i, :])\n",
      "    rand_matrices_mp.append(P)\n",
      "    rand_matrices_mp_copy.append(P.copy())"
     ],
     "language": "python",
     "metadata": {},
     "outputs": [],
     "prompt_number": 3
    },
    {
     "cell_type": "code",
     "collapsed": false,
     "input": [
      "rand_matrices_fp = \\\n",
      "    [mp.fp.matrix(P.tolist()) for P in rand_matrices_mp]\n",
      "rand_matrices_fp_copy = \\\n",
      "    [mp.fp.matrix(P.tolist()) for P in rand_matrices_mp_copy]"
     ],
     "language": "python",
     "metadata": {},
     "outputs": [],
     "prompt_number": 4
    },
    {
     "cell_type": "code",
     "collapsed": false,
     "input": [
      "rand_matrices_mp == rand_matrices_fp"
     ],
     "language": "python",
     "metadata": {},
     "outputs": [
      {
       "metadata": {},
       "output_type": "pyout",
       "prompt_number": 5,
       "text": [
        "True"
       ]
      }
     ],
     "prompt_number": 5
    },
    {
     "cell_type": "code",
     "collapsed": false,
     "input": [
      "type(rand_matrices_mp[0][0, 0])"
     ],
     "language": "python",
     "metadata": {},
     "outputs": [
      {
       "metadata": {},
       "output_type": "pyout",
       "prompt_number": 6,
       "text": [
        "mpmath.ctx_mp_python.mpf"
       ]
      }
     ],
     "prompt_number": 6
    },
    {
     "cell_type": "code",
     "collapsed": false,
     "input": [
      "type(rand_matrices_fp[0][0, 0])"
     ],
     "language": "python",
     "metadata": {},
     "outputs": [
      {
       "metadata": {},
       "output_type": "pyout",
       "prompt_number": 7,
       "text": [
        "float"
       ]
      }
     ],
     "prompt_number": 7
    },
    {
     "cell_type": "code",
     "collapsed": false,
     "input": [
      "import time"
     ],
     "language": "python",
     "metadata": {},
     "outputs": [],
     "prompt_number": 8
    },
    {
     "cell_type": "code",
     "collapsed": false,
     "input": [
      "v0, v1 = [[], []], [[], []]\n",
      "t0, t1 = [[], []], [[], []]\n",
      "\n",
      "for P in rand_matrices_mp:\n",
      "    for i, overwrite in enumerate([False, True]):\n",
      "        start = time.time()\n",
      "        v = mp.mp.stoch_eig(P, overwrite=overwrite)\n",
      "        timediff = time.time() - start\n",
      "        v0[i].append(v)\n",
      "        t0[i].append(timediff)\n",
      "\n",
      "for P in rand_matrices_fp:\n",
      "    for i, overwrite in enumerate([False, True]):\n",
      "        start = time.time()\n",
      "        v = mp.fp.stoch_eig(P, overwrite=overwrite)\n",
      "        timediff = time.time() - start\n",
      "        v1[i].append(v)\n",
      "        t1[i].append(timediff)"
     ],
     "language": "python",
     "metadata": {},
     "outputs": [],
     "prompt_number": 9
    },
    {
     "cell_type": "code",
     "collapsed": false,
     "input": [
      "for i, (P, Q) in enumerate(zip(rand_matrices_mp_copy, rand_matrices_fp_copy)):\n",
      "    print 'rand_matrices[{0}] ({1} x {2})'.format(i, P.rows, P.cols)\n",
      "    print '  mp.mp.stoch_eig overwrite=F:', mp.norm(v0[0][i]*P - v0[0][i], 1), t0[0][i]\n",
      "    print '  mp.mp.stoch_eig overwrite=T:', mp.norm(v0[1][i]*P - v0[1][i], 1), t0[1][i]\n",
      "    print '  mp.fp.stoch_eig overwrite=F:', mp.norm(v1[0][i]*Q - v1[0][i], 1), t1[0][i]\n",
      "    print '  mp.fp.stoch_eig overwrite=T:', mp.norm(v1[1][i]*Q - v1[1][i], 1), t1[1][i]"
     ],
     "language": "python",
     "metadata": {},
     "outputs": [
      {
       "output_type": "stream",
       "stream": "stdout",
       "text": [
        "rand_matrices[0] (10 x 10)\n",
        "  mp.mp.stoch_eig overwrite=F: 6.93889390390723e-17 0.0100340843201\n",
        "  mp.mp.stoch_eig overwrite=T: 6.93889390390723e-17 0.00910806655884\n",
        "  mp.fp.stoch_eig overwrite=F: 1.11022302462516e-16 0.00322794914246\n",
        "  mp.fp.stoch_eig overwrite=T: 1.11022302462516e-16 0.00313091278076\n",
        "rand_matrices[1] (30 x 30)\n",
        "  mp.mp.stoch_eig overwrite=F: 7.63278329429795e-17 0.21993803978\n",
        "  mp.mp.stoch_eig overwrite=T: 7.63278329429795e-17 0.199735879898\n",
        "  mp.fp.stoch_eig overwrite=F: 1.45716771982052e-16 0.0754089355469\n",
        "  mp.fp.stoch_eig overwrite=T: 1.45716771982052e-16 0.0749809741974\n",
        "rand_matrices[2] (50 x 50)\n",
        "  mp.mp.stoch_eig overwrite=F: "
       ]
      },
      {
       "output_type": "stream",
       "stream": "stdout",
       "text": [
        "9.36750677027476e-17 0.771180152893\n",
        "  mp.mp.stoch_eig overwrite=T: 9.36750677027476e-17 0.778090953827\n",
        "  mp.fp.stoch_eig overwrite=F: 2.81025203108243e-16 0.34636592865\n",
        "  mp.fp.stoch_eig overwrite=T: "
       ]
      },
      {
       "output_type": "stream",
       "stream": "stdout",
       "text": [
        "2.81025203108243e-16 0.340687990189\n",
        "rand_matrices[3] (100 x 100)\n",
        "  mp.mp.stoch_eig overwrite=F: "
       ]
      },
      {
       "output_type": "stream",
       "stream": "stdout",
       "text": [
        "7.45931094670027e-17 6.27766299248\n",
        "  mp.mp.stoch_eig overwrite=T: "
       ]
      },
      {
       "output_type": "stream",
       "stream": "stdout",
       "text": [
        "7.45931094670027e-17 6.32000899315\n",
        "  mp.fp.stoch_eig overwrite=F: 3.05311331771918e-16 2.70071816444\n",
        "  mp.fp.stoch_eig overwrite=T: "
       ]
      },
      {
       "output_type": "stream",
       "stream": "stdout",
       "text": [
        "3.05311331771918e-16 2.69610691071\n"
       ]
      }
     ],
     "prompt_number": 10
    },
    {
     "cell_type": "code",
     "collapsed": false,
     "input": [
      "for i, (P, Q) in enumerate(zip(rand_matrices_mp_copy, rand_matrices_fp_copy)):\n",
      "    print 'rand_matrices[{0}] ({1} x {2})'.format(i, P.rows, P.cols)\n",
      "    for overwrite in [False, True]:\n",
      "        %timeit mp.mp.stoch_eig(P, overwrite=overwrite)\n",
      "    for overwrite in [False, True]:\n",
      "        %timeit mp.fp.stoch_eig(Q, overwrite=overwrite)"
     ],
     "language": "python",
     "metadata": {},
     "outputs": [
      {
       "output_type": "stream",
       "stream": "stdout",
       "text": [
        "rand_matrices[0] (10 x 10)\n",
        "100 loops, best of 3: 7.14 ms per loop"
       ]
      },
      {
       "output_type": "stream",
       "stream": "stdout",
       "text": [
        "\n",
        "100 loops, best of 3: 7.06 ms per loop"
       ]
      },
      {
       "output_type": "stream",
       "stream": "stdout",
       "text": [
        "\n",
        "100 loops, best of 3: 3.23 ms per loop"
       ]
      },
      {
       "output_type": "stream",
       "stream": "stdout",
       "text": [
        "\n",
        "100 loops, best of 3: 3.23 ms per loop"
       ]
      },
      {
       "output_type": "stream",
       "stream": "stdout",
       "text": [
        "\n",
        "rand_matrices[1] (30 x 30)\n",
        "1 loops, best of 3: 164 ms per loop"
       ]
      },
      {
       "output_type": "stream",
       "stream": "stdout",
       "text": [
        "\n",
        "10 loops, best of 3: 168 ms per loop"
       ]
      },
      {
       "output_type": "stream",
       "stream": "stdout",
       "text": [
        "\n",
        "10 loops, best of 3: 74.6 ms per loop"
       ]
      },
      {
       "output_type": "stream",
       "stream": "stdout",
       "text": [
        "\n",
        "10 loops, best of 3: 76.1 ms per loop"
       ]
      },
      {
       "output_type": "stream",
       "stream": "stdout",
       "text": [
        "\n",
        "rand_matrices[2] (50 x 50)\n",
        "1 loops, best of 3: 782 ms per loop"
       ]
      },
      {
       "output_type": "stream",
       "stream": "stdout",
       "text": [
        "\n",
        "1 loops, best of 3: 785 ms per loop"
       ]
      },
      {
       "output_type": "stream",
       "stream": "stdout",
       "text": [
        "\n",
        "1 loops, best of 3: 335 ms per loop"
       ]
      },
      {
       "output_type": "stream",
       "stream": "stdout",
       "text": [
        "\n",
        "1 loops, best of 3: 331 ms per loop"
       ]
      },
      {
       "output_type": "stream",
       "stream": "stdout",
       "text": [
        "\n",
        "rand_matrices[3] (100 x 100)\n",
        "1 loops, best of 3: 6.06 s per loop"
       ]
      },
      {
       "output_type": "stream",
       "stream": "stdout",
       "text": [
        "\n",
        "1 loops, best of 3: 6.13 s per loop"
       ]
      },
      {
       "output_type": "stream",
       "stream": "stdout",
       "text": [
        "\n",
        "1 loops, best of 3: 2.71 s per loop"
       ]
      },
      {
       "output_type": "stream",
       "stream": "stdout",
       "text": [
        "\n",
        "1 loops, best of 3: 2.76 s per loop"
       ]
      },
      {
       "output_type": "stream",
       "stream": "stdout",
       "text": [
        "\n"
       ]
      }
     ],
     "prompt_number": 11
    },
    {
     "cell_type": "code",
     "collapsed": false,
     "input": [],
     "language": "python",
     "metadata": {},
     "outputs": [],
     "prompt_number": 11
    }
   ],
   "metadata": {}
  }
 ]
}