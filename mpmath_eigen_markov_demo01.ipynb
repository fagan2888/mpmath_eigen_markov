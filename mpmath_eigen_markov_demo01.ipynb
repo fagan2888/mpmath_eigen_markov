{
 "metadata": {
  "name": "",
  "signature": "sha256:29842cb17c729174eb8d2d7a686fe119461a1abc0b08f1e3d542c0e5f140b507"
 },
 "nbformat": 3,
 "nbformat_minor": 0,
 "worksheets": [
  {
   "cells": [
    {
     "cell_type": "heading",
     "level": 1,
     "metadata": {},
     "source": [
      "eigen_markov: Illustration"
     ]
    },
    {
     "cell_type": "markdown",
     "metadata": {},
     "source": [
      "Add to [mpmath](http://mpmath.org) some useful routines specialized for stochastic (or Markov) matrices"
     ]
    },
    {
     "cell_type": "code",
     "collapsed": false,
     "input": [
      "import mpmath as mp"
     ],
     "language": "python",
     "metadata": {},
     "outputs": [],
     "prompt_number": 1
    },
    {
     "cell_type": "code",
     "collapsed": false,
     "input": [
      "from eigen_markov import stoch_eig, gth_solve"
     ],
     "language": "python",
     "metadata": {},
     "outputs": [],
     "prompt_number": 2
    },
    {
     "cell_type": "heading",
     "level": 2,
     "metadata": {},
     "source": [
      "`stoch_eig`"
     ]
    },
    {
     "cell_type": "markdown",
     "metadata": {},
     "source": [
      "`stoch_eig` returns the stochastic eigenvector (or stationary probability distribution vector) of\n",
      "an [irreducible](http://en.wikipedia.org/wiki/Perron-Frobenius_theorem#Classification_of_matrices)\n",
      "[stochastic martix](http://en.wikipedia.org/wiki/Stochastic_matrix) `P`,\n",
      "i.e., the solution to $x P = x$, normalized so that its 1-norm equals one."
     ]
    },
    {
     "cell_type": "code",
     "collapsed": false,
     "input": [
      "P = mp.matrix([[0.9, 0.075, 0.025], [0.15, 0.8, 0.05], [0.25, 0.25, 0.5]])"
     ],
     "language": "python",
     "metadata": {},
     "outputs": [],
     "prompt_number": 3
    },
    {
     "cell_type": "code",
     "collapsed": false,
     "input": [
      "print P"
     ],
     "language": "python",
     "metadata": {},
     "outputs": [
      {
       "output_type": "stream",
       "stream": "stdout",
       "text": [
        "[ 0.9  0.075  0.025]\n",
        "[0.15    0.8   0.05]\n",
        "[0.25   0.25    0.5]\n"
       ]
      }
     ],
     "prompt_number": 4
    },
    {
     "cell_type": "code",
     "collapsed": false,
     "input": [
      "x = mp.mp.stoch_eig(P)"
     ],
     "language": "python",
     "metadata": {},
     "outputs": [],
     "prompt_number": 5
    },
    {
     "cell_type": "code",
     "collapsed": false,
     "input": [
      "print x"
     ],
     "language": "python",
     "metadata": {},
     "outputs": [
      {
       "output_type": "stream",
       "stream": "stdout",
       "text": [
        "[0.625  0.3125  0.0625]\n"
       ]
      }
     ],
     "prompt_number": 6
    },
    {
     "cell_type": "code",
     "collapsed": false,
     "input": [
      "print x * P"
     ],
     "language": "python",
     "metadata": {},
     "outputs": [
      {
       "output_type": "stream",
       "stream": "stdout",
       "text": [
        "[0.625  0.3125  0.0625]\n"
       ]
      }
     ],
     "prompt_number": 7
    },
    {
     "cell_type": "code",
     "collapsed": false,
     "input": [
      "x*P == x"
     ],
     "language": "python",
     "metadata": {},
     "outputs": [
      {
       "metadata": {},
       "output_type": "pyout",
       "prompt_number": 8,
       "text": [
        "True"
       ]
      }
     ],
     "prompt_number": 8
    },
    {
     "cell_type": "code",
     "collapsed": false,
     "input": [
      "type(x[0])"
     ],
     "language": "python",
     "metadata": {},
     "outputs": [
      {
       "metadata": {},
       "output_type": "pyout",
       "prompt_number": 9,
       "text": [
        "mpmath.ctx_mp_python.mpf"
       ]
      }
     ],
     "prompt_number": 9
    },
    {
     "cell_type": "markdown",
     "metadata": {},
     "source": [
      "Fast low-precision arithmetic:"
     ]
    },
    {
     "cell_type": "code",
     "collapsed": false,
     "input": [
      "P_fp = mp.fp.matrix([[0.9, 0.075, 0.025], [0.15, 0.8, 0.05], [0.25, 0.25, 0.5]])\n",
      "x_fp = mp.fp.stoch_eig(P)"
     ],
     "language": "python",
     "metadata": {},
     "outputs": [],
     "prompt_number": 10
    },
    {
     "cell_type": "code",
     "collapsed": false,
     "input": [
      "print x_fp"
     ],
     "language": "python",
     "metadata": {},
     "outputs": [
      {
       "output_type": "stream",
       "stream": "stdout",
       "text": [
        "[0.625  0.3125  0.0625]\n"
       ]
      }
     ],
     "prompt_number": 11
    },
    {
     "cell_type": "code",
     "collapsed": false,
     "input": [
      "type(x_fp[0])"
     ],
     "language": "python",
     "metadata": {},
     "outputs": [
      {
       "metadata": {},
       "output_type": "pyout",
       "prompt_number": 12,
       "text": [
        "float"
       ]
      }
     ],
     "prompt_number": 12
    },
    {
     "cell_type": "markdown",
     "metadata": {},
     "source": [
      "Arbitrary-precision interval arithmetic:"
     ]
    },
    {
     "cell_type": "code",
     "collapsed": false,
     "input": [
      "P_iv = mp.iv.matrix([[0.9, 0.075, 0.025], [0.15, 0.8, 0.05], [0.25, 0.25, 0.5]])\n",
      "x_iv = mp.iv.stoch_eig(P_iv)"
     ],
     "language": "python",
     "metadata": {},
     "outputs": [],
     "prompt_number": 13
    },
    {
     "cell_type": "code",
     "collapsed": false,
     "input": [
      "print x_iv"
     ],
     "language": "python",
     "metadata": {},
     "outputs": [
      {
       "output_type": "stream",
       "stream": "stdout",
       "text": [
        "[[0.62499999999999922284, 0.62500000000000077716]  [0.31249999999999966693, 0.31250000000000033307]  [0.062499999999999972244, 0.062500000000000055511]]\n"
       ]
      }
     ],
     "prompt_number": 14
    },
    {
     "cell_type": "code",
     "collapsed": false,
     "input": [
      "type(x_iv[0])"
     ],
     "language": "python",
     "metadata": {},
     "outputs": [
      {
       "metadata": {},
       "output_type": "pyout",
       "prompt_number": 15,
       "text": [
        "mpmath.ctx_iv.ivmpf"
       ]
      }
     ],
     "prompt_number": 15
    },
    {
     "cell_type": "code",
     "collapsed": false,
     "input": [
      "print x_iv * P_iv"
     ],
     "language": "python",
     "metadata": {},
     "outputs": [
      {
       "output_type": "stream",
       "stream": "stdout",
       "text": [
        "[[0.6249999999999990008, 0.6250000000000009992]  [0.31249999999999955591, 0.3125000000000004996]  [0.062499999999999944489, 0.062500000000000069389]]\n"
       ]
      }
     ],
     "prompt_number": 16
    },
    {
     "cell_type": "code",
     "collapsed": false,
     "input": [
      "for value, interval in zip(x, x_iv):\n",
      "    print '{0} is in {1}:'.format(value, interval), value in interval"
     ],
     "language": "python",
     "metadata": {},
     "outputs": [
      {
       "output_type": "stream",
       "stream": "stdout",
       "text": [
        "0.625 is in [0.62499999999999922284, 0.62500000000000077716]: True\n",
        "0.3125 is in [0.31249999999999966693, 0.31250000000000033307]: True\n",
        "0.0625 is in [0.062499999999999972244, 0.062500000000000055511]: True\n"
       ]
      }
     ],
     "prompt_number": 17
    },
    {
     "cell_type": "markdown",
     "metadata": {},
     "source": [
      "With high precision:"
     ]
    },
    {
     "cell_type": "code",
     "collapsed": false,
     "input": [
      "n = 1e-100\n",
      "with mp.workdps(100):\n",
      "    P0 = mp.matrix([[1-3*(mp.exp(n)-1), 3*(mp.exp(n)-1)], [mp.exp(n)-1, 1-(mp.exp(n)-1)]])\n",
      "\n",
      "print P0"
     ],
     "language": "python",
     "metadata": {},
     "outputs": [
      {
       "output_type": "stream",
       "stream": "stdout",
       "text": [
        "[                  1.0  3.00034190211597e-100]\n",
        "[1.00011396737199e-100                    1.0]\n"
       ]
      }
     ],
     "prompt_number": 18
    },
    {
     "cell_type": "code",
     "collapsed": false,
     "input": [
      "print mp.mp.stoch_eig(P0)"
     ],
     "language": "python",
     "metadata": {},
     "outputs": [
      {
       "output_type": "stream",
       "stream": "stdout",
       "text": [
        "[0.25  0.75]\n"
       ]
      }
     ],
     "prompt_number": 19
    },
    {
     "cell_type": "heading",
     "level": 2,
     "metadata": {},
     "source": [
      "`gth_solve`"
     ]
    },
    {
     "cell_type": "markdown",
     "metadata": {},
     "source": [
      "`gth_solve` returns the (normalized) nontrivial solution to $x A = 0$ for\n",
      "an [irreducible](http://en.wikipedia.org/wiki/Perron-Frobenius_theorem#Classification_of_matrices)\n",
      "[transition rate martix](http://en.wikipedia.org/wiki/Transition_rate_matrix) `A`."
     ]
    },
    {
     "cell_type": "code",
     "collapsed": false,
     "input": [
      "A = P - mp.eye(3)"
     ],
     "language": "python",
     "metadata": {},
     "outputs": [],
     "prompt_number": 20
    },
    {
     "cell_type": "code",
     "collapsed": false,
     "input": [
      "print A"
     ],
     "language": "python",
     "metadata": {},
     "outputs": [
      {
       "output_type": "stream",
       "stream": "stdout",
       "text": [
        "[-0.1  0.075  0.025]\n",
        "[0.15   -0.2   0.05]\n",
        "[0.25   0.25   -0.5]\n"
       ]
      }
     ],
     "prompt_number": 21
    },
    {
     "cell_type": "code",
     "collapsed": false,
     "input": [
      "y = mp.mp.gth_solve(A)"
     ],
     "language": "python",
     "metadata": {},
     "outputs": [],
     "prompt_number": 22
    },
    {
     "cell_type": "code",
     "collapsed": false,
     "input": [
      "print y"
     ],
     "language": "python",
     "metadata": {},
     "outputs": [
      {
       "output_type": "stream",
       "stream": "stdout",
       "text": [
        "[0.625  0.3125  0.0625]\n"
       ]
      }
     ],
     "prompt_number": 23
    },
    {
     "cell_type": "code",
     "collapsed": false,
     "input": [
      "print mp.chop(y * A)"
     ],
     "language": "python",
     "metadata": {},
     "outputs": [
      {
       "output_type": "stream",
       "stream": "stdout",
       "text": [
        "[0.0  0.0  0.0]\n"
       ]
      }
     ],
     "prompt_number": 24
    },
    {
     "cell_type": "code",
     "collapsed": false,
     "input": [
      "print mp.norm(y*A, p=1)"
     ],
     "language": "python",
     "metadata": {},
     "outputs": [
      {
       "output_type": "stream",
       "stream": "stdout",
       "text": [
        "2.60208521396521e-17\n"
       ]
      }
     ],
     "prompt_number": 25
    },
    {
     "cell_type": "code",
     "collapsed": false,
     "input": [
      "print mp.eps"
     ],
     "language": "python",
     "metadata": {},
     "outputs": [
      {
       "output_type": "stream",
       "stream": "stdout",
       "text": [
        "2.22044604925031e-16\n"
       ]
      }
     ],
     "prompt_number": 26
    },
    {
     "cell_type": "heading",
     "level": 2,
     "metadata": {},
     "source": [
      "Other examples"
     ]
    },
    {
     "cell_type": "markdown",
     "metadata": {},
     "source": [
      "Stochastic matrices arising from a certain game-theoretic model, called the Kandori-Mailath-Rob (KMR) model"
     ]
    },
    {
     "cell_type": "code",
     "collapsed": false,
     "input": [
      "from test_eigen_markov import KMR_Markov_matrix_sequential"
     ],
     "language": "python",
     "metadata": {},
     "outputs": [],
     "prompt_number": 27
    },
    {
     "cell_type": "code",
     "collapsed": false,
     "input": [
      "KMR_matrices = \\\n",
      "[KMR_Markov_matrix_sequential(N=3, p=1./3, epsilon=1e-14),\n",
      " KMR_Markov_matrix_sequential(N=10, p=1./3, epsilon=1e-10),\n",
      " KMR_Markov_matrix_sequential(N=27, p=1./3, epsilon=1e-2)]"
     ],
     "language": "python",
     "metadata": {},
     "outputs": [],
     "prompt_number": 28
    },
    {
     "cell_type": "code",
     "collapsed": false,
     "input": [
      "print 'KMR_matrices[0] ({0} x {1})'.format(KMR_matrices[0].rows, KMR_matrices[0].cols)\n",
      "print KMR_matrices[0]"
     ],
     "language": "python",
     "metadata": {},
     "outputs": [
      {
       "output_type": "stream",
       "stream": "stdout",
       "text": [
        "KMR_matrices[0] (4 x 4)\n",
        "[0.999999999999995               5.0e-15                0.0                0.0]\n",
        "[0.333333333333332   4.9960036108132e-15  0.666666666666663                0.0]\n",
        "[              0.0  3.33333333333333e-15  0.666666666666665  0.333333333333332]\n",
        "[              0.0                   0.0            5.0e-15  0.999999999999995]\n"
       ]
      }
     ],
     "prompt_number": 29
    },
    {
     "cell_type": "code",
     "collapsed": false,
     "input": [
      "print 'KMR_matrices[1] ({0} x {1})'.format(KMR_matrices[1].rows, KMR_matrices[0].cols)\n",
      "mp.nprint(KMR_matrices[1], 9)"
     ],
     "language": "python",
     "metadata": {},
     "outputs": [
      {
       "output_type": "stream",
       "stream": "stdout",
       "text": [
        "KMR_matrices[1] (11 x 4)\n",
        "[1.0  5.0e-11      0.0      0.0      0.0      0.0      0.0      0.0      0.0      0.0  0.0]\n",
        "[0.1      0.9  4.5e-11      0.0      0.0      0.0      0.0      0.0      0.0      0.0  0.0]\n",
        "[0.0      0.2      0.8  4.0e-11      0.0      0.0      0.0      0.0      0.0      0.0  0.0]\n",
        "[0.0      0.0      0.3     0.35     0.35      0.0      0.0      0.0      0.0      0.0  0.0]\n",
        "[0.0      0.0      0.0      0.2      0.2      0.6      0.0      0.0      0.0      0.0  0.0]\n",
        "[0.0      0.0      0.0      0.0  2.5e-11      0.5      0.5      0.0      0.0      0.0  0.0]\n",
        "[0.0      0.0      0.0      0.0      0.0  3.0e-11      0.6      0.4      0.0      0.0  0.0]\n",
        "[0.0      0.0      0.0      0.0      0.0      0.0  3.5e-11      0.7      0.3      0.0  0.0]\n",
        "[0.0      0.0      0.0      0.0      0.0      0.0      0.0  4.0e-11      0.8      0.2  0.0]\n",
        "[0.0      0.0      0.0      0.0      0.0      0.0      0.0      0.0  4.5e-11      0.9  0.1]\n",
        "[0.0      0.0      0.0      0.0      0.0      0.0      0.0      0.0      0.0  5.0e-11  1.0]\n"
       ]
      }
     ],
     "prompt_number": 30
    },
    {
     "cell_type": "code",
     "collapsed": false,
     "input": [
      "print 'KMR_matrices[2] ({0} x {1})'.format(KMR_matrices[2].rows, KMR_matrices[2].cols)"
     ],
     "language": "python",
     "metadata": {},
     "outputs": [
      {
       "output_type": "stream",
       "stream": "stdout",
       "text": [
        "KMR_matrices[2] (28 x 28)\n"
       ]
      }
     ],
     "prompt_number": 31
    },
    {
     "cell_type": "code",
     "collapsed": false,
     "input": [
      "x0 = mp.mp.stoch_eig(KMR_matrices[0])\n",
      "print x0"
     ],
     "language": "python",
     "metadata": {},
     "outputs": [
      {
       "output_type": "stream",
       "stream": "stdout",
       "text": [
        "[4.99999999999992e-15  7.49999999999992e-29  1.49999999999998e-14  0.99999999999998]\n"
       ]
      }
     ],
     "prompt_number": 32
    },
    {
     "cell_type": "code",
     "collapsed": false,
     "input": [
      "print x0 * KMR_matrices[0]"
     ],
     "language": "python",
     "metadata": {},
     "outputs": [
      {
       "output_type": "stream",
       "stream": "stdout",
       "text": [
        "[4.99999999999992e-15  7.49999999999992e-29  1.49999999999998e-14  0.99999999999998]\n"
       ]
      }
     ],
     "prompt_number": 33
    },
    {
     "cell_type": "code",
     "collapsed": false,
     "input": [
      "print mp.norm(x0*KMR_matrices[0] - x0, p=1)"
     ],
     "language": "python",
     "metadata": {},
     "outputs": [
      {
       "output_type": "stream",
       "stream": "stdout",
       "text": [
        "0.0\n"
       ]
      }
     ],
     "prompt_number": 34
    },
    {
     "cell_type": "code",
     "collapsed": false,
     "input": [
      "vecs0 = []\n",
      "for P in KMR_matrices:\n",
      "    vecs0.append(mp.mp.stoch_eig(P))"
     ],
     "language": "python",
     "metadata": {},
     "outputs": [],
     "prompt_number": 35
    },
    {
     "cell_type": "markdown",
     "metadata": {},
     "source": [
      "Errors $\\lVert x P - x\\rVert_1$:"
     ]
    },
    {
     "cell_type": "code",
     "collapsed": false,
     "input": [
      "for i, P in enumerate(KMR_matrices):\n",
      "    print 'KMR_matrices[{0}]:'.format(i), mp.norm(vecs0[i]*P - vecs0[i], p=1)"
     ],
     "language": "python",
     "metadata": {},
     "outputs": [
      {
       "output_type": "stream",
       "stream": "stdout",
       "text": [
        "KMR_matrices[0]: 0.0\n",
        "KMR_matrices[1]: 1.63132611699963e-55\n",
        "KMR_matrices[2]: 8.27180612649327e-25\n"
       ]
      }
     ],
     "prompt_number": 36
    },
    {
     "cell_type": "heading",
     "level": 2,
     "metadata": {},
     "source": [
      "Comparison with `eig`"
     ]
    },
    {
     "cell_type": "markdown",
     "metadata": {},
     "source": [
      "Eigenvectors can be found by `eig`, a routine for the general [eigenvalue problem](http://mpmath.org/doc/current/matrices.html#the-eigenvalue-problem).\n",
      "Here we are looking for the dominant eigenvector of a stochastic matrix."
     ]
    },
    {
     "cell_type": "code",
     "collapsed": false,
     "input": [
      "def stoch_eig_by_eig(P):\n",
      "    E, EL = mp.eig(mp.matrix(P), left=True, right=False)\n",
      "    E, EL = mp.eig_sort(E, EL)\n",
      "\n",
      "    dom_eigvec = EL[EL.rows-1, :]\n",
      "    return dom_eigvec/sum(dom_eigvec)"
     ],
     "language": "python",
     "metadata": {},
     "outputs": [],
     "prompt_number": 37
    },
    {
     "cell_type": "code",
     "collapsed": false,
     "input": [
      "P = mp.matrix([[0.9, 0.075, 0.025], [0.15, 0.8, 0.05], [0.25, 0.25, 0.5]])\n",
      "print P"
     ],
     "language": "python",
     "metadata": {},
     "outputs": [
      {
       "output_type": "stream",
       "stream": "stdout",
       "text": [
        "[ 0.9  0.075  0.025]\n",
        "[0.15    0.8   0.05]\n",
        "[0.25   0.25    0.5]\n"
       ]
      }
     ],
     "prompt_number": 38
    },
    {
     "cell_type": "code",
     "collapsed": false,
     "input": [
      "z = stoch_eig_by_eig(P)\n",
      "print z"
     ],
     "language": "python",
     "metadata": {},
     "outputs": [
      {
       "output_type": "stream",
       "stream": "stdout",
       "text": [
        "[0.624999999999999  0.312500000000001  0.0625000000000002]\n"
       ]
      }
     ],
     "prompt_number": 39
    },
    {
     "cell_type": "code",
     "collapsed": false,
     "input": [
      "print z * P"
     ],
     "language": "python",
     "metadata": {},
     "outputs": [
      {
       "output_type": "stream",
       "stream": "stdout",
       "text": [
        "[0.624999999999999  0.312500000000001  0.0625000000000001]\n"
       ]
      }
     ],
     "prompt_number": 40
    },
    {
     "cell_type": "code",
     "collapsed": false,
     "input": [
      "mp.norm(z*P - z, p=1)"
     ],
     "language": "python",
     "metadata": {},
     "outputs": [
      {
       "metadata": {},
       "output_type": "pyout",
       "prompt_number": 41,
       "text": [
        "mpf('4.5796699765787707e-16')"
       ]
      }
     ],
     "prompt_number": 41
    },
    {
     "cell_type": "markdown",
     "metadata": {},
     "source": [
      "It is natural to suspect that the `stoch_eig` routine, which is specialized for stochastic matrices,\n",
      "performs better than the general purpose routine `eig` for those matrices.\n",
      "It seems it is indeed the case in terms of speed,\n",
      "and for accuracy, `stoch_eig` seems at least as accurate as `eig`."
     ]
    },
    {
     "cell_type": "heading",
     "level": 3,
     "metadata": {},
     "source": [
      "KMR matrices"
     ]
    },
    {
     "cell_type": "code",
     "collapsed": false,
     "input": [
      "import time"
     ],
     "language": "python",
     "metadata": {},
     "outputs": [],
     "prompt_number": 42
    },
    {
     "cell_type": "code",
     "collapsed": false,
     "input": [
      "v0, v1 = [], []\n",
      "t0, t1 = [], []\n",
      "\n",
      "for P in KMR_matrices:\n",
      "    start = time.time()\n",
      "    v = mp.mp.stoch_eig(P)\n",
      "    timediff = time.time() - start\n",
      "    v0.append(v)\n",
      "    t0.append(timediff)\n",
      "\n",
      "for P in KMR_matrices:\n",
      "    start = time.time()\n",
      "    v = stoch_eig_by_eig(P)\n",
      "    timediff = time.time() - start\n",
      "    v1.append(v)\n",
      "    t1.append(timediff)"
     ],
     "language": "python",
     "metadata": {},
     "outputs": [],
     "prompt_number": 43
    },
    {
     "cell_type": "code",
     "collapsed": false,
     "input": [
      "for i, P in enumerate(KMR_matrices):\n",
      "    print 'KMR_matrices[{0}] ({1} x {2})'.format(i, P.rows, P.cols)\n",
      "    print '  stoch_eig:', mp.norm(v0[i]*P - v0[i], 1), t0[i]\n",
      "    print '  eig      :', mp.norm(v1[i]*P - v1[i], 1), t1[i]"
     ],
     "language": "python",
     "metadata": {},
     "outputs": [
      {
       "output_type": "stream",
       "stream": "stdout",
       "text": [
        "KMR_matrices[0] (4 x 4)\n",
        "  stoch_eig: 0.0 0.000830173492432\n",
        "  eig      : 1.26217744835362e-29 0.00916790962219\n",
        "KMR_matrices[1] (11 x 11)\n",
        "  stoch_eig: 1.63132611699963e-55 0.011785030365\n",
        "  eig      : 4.1359030637281e-25 0.171113967896\n",
        "KMR_matrices[2] (28 x 28)\n",
        "  stoch_eig: 8.27180612649327e-25 0.147373199463\n",
        "  eig      : 1.71961402999288e-16 3.47893309593\n"
       ]
      }
     ],
     "prompt_number": 44
    },
    {
     "cell_type": "code",
     "collapsed": false,
     "input": [
      "for i, P in enumerate(KMR_matrices):\n",
      "    print 'KMR_matrices[{0}] ({1} x {2})'.format(i, P.rows, P.cols)\n",
      "    %timeit mp.mp.stoch_eig(P)\n",
      "    %timeit stoch_eig_by_eig(P)"
     ],
     "language": "python",
     "metadata": {},
     "outputs": [
      {
       "output_type": "stream",
       "stream": "stdout",
       "text": [
        "KMR_matrices[0] (4 x 4)\n",
        "1000 loops, best of 3: 579 \u00b5s per loop"
       ]
      },
      {
       "output_type": "stream",
       "stream": "stdout",
       "text": [
        "\n",
        "100 loops, best of 3: 7.75 ms per loop"
       ]
      },
      {
       "output_type": "stream",
       "stream": "stdout",
       "text": [
        "\n",
        "KMR_matrices[1] (11 x 11)\n",
        "100 loops, best of 3: 6.61 ms per loop"
       ]
      },
      {
       "output_type": "stream",
       "stream": "stdout",
       "text": [
        "\n",
        "10 loops, best of 3: 132 ms per loop"
       ]
      },
      {
       "output_type": "stream",
       "stream": "stdout",
       "text": [
        "\n",
        "KMR_matrices[2] (28 x 28)\n",
        "10 loops, best of 3: 89.2 ms per loop"
       ]
      },
      {
       "output_type": "stream",
       "stream": "stdout",
       "text": [
        "\n",
        "1 loops, best of 3: 3.3 s per loop"
       ]
      },
      {
       "output_type": "stream",
       "stream": "stdout",
       "text": [
        "\n"
       ]
      }
     ],
     "prompt_number": 45
    },
    {
     "cell_type": "heading",
     "level": 3,
     "metadata": {},
     "source": [
      "Random matrics:"
     ]
    },
    {
     "cell_type": "code",
     "collapsed": false,
     "input": [
      "sizes = [10, 30, 50]\n",
      "rand_matrices = []\n",
      "\n",
      "for n in sizes:\n",
      "    P = mp.randmatrix(n, n)\n",
      "    for i in range(n):\n",
      "        P[i, :] /= mp.fsum(P[i, :])\n",
      "    rand_matrices.append(P)"
     ],
     "language": "python",
     "metadata": {},
     "outputs": [],
     "prompt_number": 46
    },
    {
     "cell_type": "code",
     "collapsed": false,
     "input": [
      "v0, v1 = [], []\n",
      "t0, t1 = [], []\n",
      "\n",
      "for P in rand_matrices:\n",
      "    start = time.time()\n",
      "    v = mp.mp.stoch_eig(P)\n",
      "    timediff = time.time() - start\n",
      "    v0.append(v)\n",
      "    t0.append(timediff)\n",
      "\n",
      "for P in rand_matrices:\n",
      "    start = time.time()\n",
      "    v = stoch_eig_by_eig(P)\n",
      "    timediff = time.time() - start\n",
      "    v1.append(v)\n",
      "    t1.append(timediff)"
     ],
     "language": "python",
     "metadata": {},
     "outputs": [],
     "prompt_number": 47
    },
    {
     "cell_type": "code",
     "collapsed": false,
     "input": [
      "for i, P in enumerate(rand_matrices):\n",
      "    print 'rand_matrices[{0}] ({1} x {2})'.format(i, P.rows, P.cols)\n",
      "    print '  stoch_eig:', mp.norm(v0[i]*P - v0[i], 1), t0[i]\n",
      "    print '  eig      :', mp.norm(v1[i]*P - v1[i], 1), t1[i]"
     ],
     "language": "python",
     "metadata": {},
     "outputs": [
      {
       "output_type": "stream",
       "stream": "stdout",
       "text": [
        "rand_matrices[0] (10 x 10)\n",
        "  stoch_eig: 8.32667268468867e-17 0.01411485672\n",
        "  eig      : 7.46055447988703e-16 0.368566036224\n",
        "rand_matrices[1] (30 x 30)\n",
        "  stoch_eig: 6.24500451351651e-17 0.22004199028\n",
        "  eig      : 5.41113024603921e-16 10.5731830597\n",
        "rand_matrices[2] (50 x 50)\n",
        "  stoch_eig: "
       ]
      },
      {
       "output_type": "stream",
       "stream": "stdout",
       "text": [
        "6.59194920871187e-17 0.807505130768\n",
        "  eig      : 5.87832790113702e-16 45.5745909214\n"
       ]
      }
     ],
     "prompt_number": 48
    },
    {
     "cell_type": "code",
     "collapsed": false,
     "input": [
      "for i, P in enumerate(rand_matrices):\n",
      "    print 'rand_matrices[{0}] ({1} x {2})'.format(i, P.rows, P.cols)\n",
      "    %timeit mp.mp.stoch_eig(P)\n",
      "    %timeit stoch_eig_by_eig(P)"
     ],
     "language": "python",
     "metadata": {},
     "outputs": [
      {
       "output_type": "stream",
       "stream": "stdout",
       "text": [
        "rand_matrices[0] (10 x 10)\n",
        "100 loops, best of 3: 7.71 ms per loop"
       ]
      },
      {
       "output_type": "stream",
       "stream": "stdout",
       "text": [
        "\n",
        "1 loops, best of 3: 367 ms per loop"
       ]
      },
      {
       "output_type": "stream",
       "stream": "stdout",
       "text": [
        "\n",
        "rand_matrices[1] (30 x 30)\n",
        "10 loops, best of 3: 175 ms per loop"
       ]
      },
      {
       "output_type": "stream",
       "stream": "stdout",
       "text": [
        "\n",
        "1 loops, best of 3: 10.3 s per loop"
       ]
      },
      {
       "output_type": "stream",
       "stream": "stdout",
       "text": [
        "\n",
        "rand_matrices[2] (50 x 50)\n",
        "1 loops, best of 3: 764 ms per loop"
       ]
      },
      {
       "output_type": "stream",
       "stream": "stdout",
       "text": [
        "\n",
        "1 loops, best of 3: 43 s per loop"
       ]
      },
      {
       "output_type": "stream",
       "stream": "stdout",
       "text": [
        "\n"
       ]
      }
     ],
     "prompt_number": 49
    },
    {
     "cell_type": "code",
     "collapsed": false,
     "input": [
      "import os.path\n",
      "import sys\n",
      "\n",
      "print(\"mpmath imported from %s\" % os.path.dirname(mp.__file__))\n",
      "print(\"mpmath backend: %s\" % mp.libmp.backend.BACKEND)\n",
      "print(\"mpmath mp class: %s\" % repr(mp.mp))\n",
      "print(\"mpmath version: %s\" % mp.__version__)\n",
      "print(\"Python version: %s\" % sys.version)"
     ],
     "language": "python",
     "metadata": {},
     "outputs": [
      {
       "output_type": "stream",
       "stream": "stdout",
       "text": [
        "mpmath imported from /usr/local/lib/python2.7/site-packages/mpmath\n",
        "mpmath backend: python\n",
        "mpmath mp class: <mpmath.ctx_mp.MPContext object at 0x10293ee50>\n",
        "mpmath version: 0.19\n",
        "Python version: 2.7.8 (default, Jul  2 2014, 10:14:46) \n",
        "[GCC 4.2.1 Compatible Apple LLVM 5.1 (clang-503.0.40)]\n"
       ]
      }
     ],
     "prompt_number": 50
    },
    {
     "cell_type": "code",
     "collapsed": false,
     "input": [],
     "language": "python",
     "metadata": {},
     "outputs": [],
     "prompt_number": 50
    }
   ],
   "metadata": {}
  }
 ]
}